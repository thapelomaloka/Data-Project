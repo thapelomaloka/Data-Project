{
 "cells": [
  {
   "cell_type": "markdown",
   "id": "83ef5725",
   "metadata": {},
   "source": [
    "# <span style = \"color:#012030\">Online Shop Sales Data Analysis </span>\n",
    " \n",
    "## <span style = \"color:#012030\">Author</span> :<span style = \"color:#2C3333\">Thapelo Maloka (217004340)</span>\n",
    "## <span style = \"color:#012030\">Due Date</span> :<span style = \"color:#2C3333\">14 April 2023</span>\n",
    "## <span style = \"color:#012030\">Data Source</span> :<span style = \"color:#38D0F2\">https://www.kaggle.com/datasets/onlineretailshop/online-shop-customer-sales-data</span>\n",
    "\n",
    "## <span style = \"color:#012030\">GitHub Link</span> :<span style = \"color:#2C3333\">https://github.com/thapelomaloka/Data-Project</span>\n",
    "\n",
    "\n",
    "\n",
    " \n",
    " \n",
    "\n"
   ]
  },
  {
   "cell_type": "markdown",
   "id": "25eefd15",
   "metadata": {},
   "source": [
    "# <span style = \"color:#2C3333\">Import Relevant Libraries</span>"
   ]
  },
  {
   "cell_type": "code",
   "execution_count": 477,
   "id": "d460be0a",
   "metadata": {},
   "outputs": [],
   "source": [
    "import pandas as pd\n",
    "import numpy as np\n",
    "import matplotlib.pyplot as plt\n",
    "import seaborn as sns"
   ]
  },
  {
   "cell_type": "markdown",
   "id": "ba666553",
   "metadata": {},
   "source": [
    "# <span style = \"color:#2C3333\">Import My Data File In the Format of CSV</span>"
   ]
  },
  {
   "cell_type": "code",
   "execution_count": 478,
   "id": "23718a96",
   "metadata": {},
   "outputs": [],
   "source": [
    "# Read the CSV file into a DataFrame.\n",
    "sales_data = pd.read_csv('./Online_Shop_Customer_Sales_Data.csv')"
   ]
  },
  {
   "cell_type": "markdown",
   "id": "9ba41f76",
   "metadata": {},
   "source": [
    "## <span style = \"color:#2C3333\">View the 1st twenty rows of the data to see if it Importaed succesfully</span>"
   ]
  },
  {
   "cell_type": "code",
   "execution_count": 479,
   "id": "33eb7d79",
   "metadata": {},
   "outputs": [
    {
     "data": {
      "text/html": [
       "<div>\n",
       "<style scoped>\n",
       "    .dataframe tbody tr th:only-of-type {\n",
       "        vertical-align: middle;\n",
       "    }\n",
       "\n",
       "    .dataframe tbody tr th {\n",
       "        vertical-align: top;\n",
       "    }\n",
       "\n",
       "    .dataframe thead th {\n",
       "        text-align: right;\n",
       "    }\n",
       "</style>\n",
       "<table border=\"1\" class=\"dataframe\">\n",
       "  <thead>\n",
       "    <tr style=\"text-align: right;\">\n",
       "      <th></th>\n",
       "      <th>Customer_id</th>\n",
       "      <th>Age</th>\n",
       "      <th>Gender</th>\n",
       "      <th>Revenue_Total</th>\n",
       "      <th>N_Purchases</th>\n",
       "      <th>Purchase_DATE</th>\n",
       "      <th>Purchase_VALUE</th>\n",
       "      <th>Pay_Method</th>\n",
       "      <th>Time_Spent</th>\n",
       "      <th>Browser</th>\n",
       "      <th>Newsletter</th>\n",
       "      <th>Voucher</th>\n",
       "    </tr>\n",
       "  </thead>\n",
       "  <tbody>\n",
       "    <tr>\n",
       "      <th>0</th>\n",
       "      <td>504308</td>\n",
       "      <td>53</td>\n",
       "      <td>0</td>\n",
       "      <td>45.3</td>\n",
       "      <td>2</td>\n",
       "      <td>22.06.21</td>\n",
       "      <td>24.915</td>\n",
       "      <td>1</td>\n",
       "      <td>885</td>\n",
       "      <td>0</td>\n",
       "      <td>0</td>\n",
       "      <td>0</td>\n",
       "    </tr>\n",
       "    <tr>\n",
       "      <th>1</th>\n",
       "      <td>504309</td>\n",
       "      <td>18</td>\n",
       "      <td>1</td>\n",
       "      <td>36.2</td>\n",
       "      <td>3</td>\n",
       "      <td>10.12.21</td>\n",
       "      <td>2.896</td>\n",
       "      <td>2</td>\n",
       "      <td>656</td>\n",
       "      <td>0</td>\n",
       "      <td>0</td>\n",
       "      <td>1</td>\n",
       "    </tr>\n",
       "    <tr>\n",
       "      <th>2</th>\n",
       "      <td>504310</td>\n",
       "      <td>52</td>\n",
       "      <td>1</td>\n",
       "      <td>10.6</td>\n",
       "      <td>1</td>\n",
       "      <td>14.03.21</td>\n",
       "      <td>10.600</td>\n",
       "      <td>0</td>\n",
       "      <td>761</td>\n",
       "      <td>0</td>\n",
       "      <td>1</td>\n",
       "      <td>0</td>\n",
       "    </tr>\n",
       "    <tr>\n",
       "      <th>3</th>\n",
       "      <td>504311</td>\n",
       "      <td>29</td>\n",
       "      <td>0</td>\n",
       "      <td>54.1</td>\n",
       "      <td>5</td>\n",
       "      <td>25.10.21</td>\n",
       "      <td>43.280</td>\n",
       "      <td>1</td>\n",
       "      <td>906</td>\n",
       "      <td>0</td>\n",
       "      <td>1</td>\n",
       "      <td>0</td>\n",
       "    </tr>\n",
       "    <tr>\n",
       "      <th>4</th>\n",
       "      <td>504312</td>\n",
       "      <td>21</td>\n",
       "      <td>1</td>\n",
       "      <td>56.9</td>\n",
       "      <td>1</td>\n",
       "      <td>14.09.21</td>\n",
       "      <td>56.900</td>\n",
       "      <td>1</td>\n",
       "      <td>605</td>\n",
       "      <td>0</td>\n",
       "      <td>1</td>\n",
       "      <td>0</td>\n",
       "    </tr>\n",
       "    <tr>\n",
       "      <th>5</th>\n",
       "      <td>504313</td>\n",
       "      <td>55</td>\n",
       "      <td>0</td>\n",
       "      <td>13.7</td>\n",
       "      <td>6</td>\n",
       "      <td>14.05.21</td>\n",
       "      <td>12.467</td>\n",
       "      <td>1</td>\n",
       "      <td>364</td>\n",
       "      <td>1</td>\n",
       "      <td>0</td>\n",
       "      <td>0</td>\n",
       "    </tr>\n",
       "    <tr>\n",
       "      <th>6</th>\n",
       "      <td>504314</td>\n",
       "      <td>17</td>\n",
       "      <td>1</td>\n",
       "      <td>30.7</td>\n",
       "      <td>6</td>\n",
       "      <td>09.01.21</td>\n",
       "      <td>2.456</td>\n",
       "      <td>0</td>\n",
       "      <td>654</td>\n",
       "      <td>0</td>\n",
       "      <td>0</td>\n",
       "      <td>0</td>\n",
       "    </tr>\n",
       "    <tr>\n",
       "      <th>7</th>\n",
       "      <td>504315</td>\n",
       "      <td>30</td>\n",
       "      <td>1</td>\n",
       "      <td>8.1</td>\n",
       "      <td>7</td>\n",
       "      <td>28.03.21</td>\n",
       "      <td>6.561</td>\n",
       "      <td>3</td>\n",
       "      <td>1011</td>\n",
       "      <td>0</td>\n",
       "      <td>0</td>\n",
       "      <td>0</td>\n",
       "    </tr>\n",
       "    <tr>\n",
       "      <th>8</th>\n",
       "      <td>504316</td>\n",
       "      <td>51</td>\n",
       "      <td>0</td>\n",
       "      <td>18.0</td>\n",
       "      <td>4</td>\n",
       "      <td>04.08.21</td>\n",
       "      <td>11.880</td>\n",
       "      <td>0</td>\n",
       "      <td>312</td>\n",
       "      <td>3</td>\n",
       "      <td>1</td>\n",
       "      <td>0</td>\n",
       "    </tr>\n",
       "    <tr>\n",
       "      <th>9</th>\n",
       "      <td>504317</td>\n",
       "      <td>63</td>\n",
       "      <td>1</td>\n",
       "      <td>19.2</td>\n",
       "      <td>4</td>\n",
       "      <td>06.10.21</td>\n",
       "      <td>11.904</td>\n",
       "      <td>3</td>\n",
       "      <td>828</td>\n",
       "      <td>0</td>\n",
       "      <td>0</td>\n",
       "      <td>0</td>\n",
       "    </tr>\n",
       "    <tr>\n",
       "      <th>10</th>\n",
       "      <td>504318</td>\n",
       "      <td>26</td>\n",
       "      <td>0</td>\n",
       "      <td>36.5</td>\n",
       "      <td>5</td>\n",
       "      <td>31.12.21</td>\n",
       "      <td>31.390</td>\n",
       "      <td>2</td>\n",
       "      <td>1029</td>\n",
       "      <td>0</td>\n",
       "      <td>0</td>\n",
       "      <td>1</td>\n",
       "    </tr>\n",
       "    <tr>\n",
       "      <th>11</th>\n",
       "      <td>504319</td>\n",
       "      <td>42</td>\n",
       "      <td>1</td>\n",
       "      <td>14.0</td>\n",
       "      <td>4</td>\n",
       "      <td>22.11.21</td>\n",
       "      <td>4.340</td>\n",
       "      <td>3</td>\n",
       "      <td>479</td>\n",
       "      <td>1</td>\n",
       "      <td>0</td>\n",
       "      <td>0</td>\n",
       "    </tr>\n",
       "    <tr>\n",
       "      <th>12</th>\n",
       "      <td>504320</td>\n",
       "      <td>40</td>\n",
       "      <td>0</td>\n",
       "      <td>14.7</td>\n",
       "      <td>2</td>\n",
       "      <td>02.08.21</td>\n",
       "      <td>2.940</td>\n",
       "      <td>3</td>\n",
       "      <td>645</td>\n",
       "      <td>0</td>\n",
       "      <td>0</td>\n",
       "      <td>0</td>\n",
       "    </tr>\n",
       "    <tr>\n",
       "      <th>13</th>\n",
       "      <td>504321</td>\n",
       "      <td>19</td>\n",
       "      <td>0</td>\n",
       "      <td>37.4</td>\n",
       "      <td>4</td>\n",
       "      <td>07.05.21</td>\n",
       "      <td>15.334</td>\n",
       "      <td>3</td>\n",
       "      <td>501</td>\n",
       "      <td>1</td>\n",
       "      <td>0</td>\n",
       "      <td>0</td>\n",
       "    </tr>\n",
       "    <tr>\n",
       "      <th>14</th>\n",
       "      <td>504322</td>\n",
       "      <td>30</td>\n",
       "      <td>1</td>\n",
       "      <td>15.4</td>\n",
       "      <td>1</td>\n",
       "      <td>02.05.21</td>\n",
       "      <td>15.400</td>\n",
       "      <td>3</td>\n",
       "      <td>802</td>\n",
       "      <td>2</td>\n",
       "      <td>0</td>\n",
       "      <td>0</td>\n",
       "    </tr>\n",
       "    <tr>\n",
       "      <th>15</th>\n",
       "      <td>504323</td>\n",
       "      <td>60</td>\n",
       "      <td>0</td>\n",
       "      <td>28.7</td>\n",
       "      <td>7</td>\n",
       "      <td>04.06.21</td>\n",
       "      <td>0.861</td>\n",
       "      <td>3</td>\n",
       "      <td>804</td>\n",
       "      <td>0</td>\n",
       "      <td>0</td>\n",
       "      <td>0</td>\n",
       "    </tr>\n",
       "    <tr>\n",
       "      <th>16</th>\n",
       "      <td>504324</td>\n",
       "      <td>22</td>\n",
       "      <td>0</td>\n",
       "      <td>39.7</td>\n",
       "      <td>3</td>\n",
       "      <td>22.02.21</td>\n",
       "      <td>30.569</td>\n",
       "      <td>2</td>\n",
       "      <td>931</td>\n",
       "      <td>3</td>\n",
       "      <td>0</td>\n",
       "      <td>0</td>\n",
       "    </tr>\n",
       "    <tr>\n",
       "      <th>17</th>\n",
       "      <td>504325</td>\n",
       "      <td>39</td>\n",
       "      <td>1</td>\n",
       "      <td>5.1</td>\n",
       "      <td>3</td>\n",
       "      <td>13.07.21</td>\n",
       "      <td>1.530</td>\n",
       "      <td>3</td>\n",
       "      <td>911</td>\n",
       "      <td>3</td>\n",
       "      <td>1</td>\n",
       "      <td>0</td>\n",
       "    </tr>\n",
       "    <tr>\n",
       "      <th>18</th>\n",
       "      <td>504326</td>\n",
       "      <td>21</td>\n",
       "      <td>1</td>\n",
       "      <td>43.9</td>\n",
       "      <td>6</td>\n",
       "      <td>13.09.21</td>\n",
       "      <td>19.755</td>\n",
       "      <td>1</td>\n",
       "      <td>468</td>\n",
       "      <td>0</td>\n",
       "      <td>0</td>\n",
       "      <td>1</td>\n",
       "    </tr>\n",
       "    <tr>\n",
       "      <th>19</th>\n",
       "      <td>504327</td>\n",
       "      <td>20</td>\n",
       "      <td>1</td>\n",
       "      <td>36.4</td>\n",
       "      <td>6</td>\n",
       "      <td>16.01.21</td>\n",
       "      <td>14.560</td>\n",
       "      <td>2</td>\n",
       "      <td>714</td>\n",
       "      <td>0</td>\n",
       "      <td>0</td>\n",
       "      <td>0</td>\n",
       "    </tr>\n",
       "  </tbody>\n",
       "</table>\n",
       "</div>"
      ],
      "text/plain": [
       "    Customer_id  Age  Gender  Revenue_Total  N_Purchases Purchase_DATE  \\\n",
       "0        504308   53       0           45.3            2      22.06.21   \n",
       "1        504309   18       1           36.2            3      10.12.21   \n",
       "2        504310   52       1           10.6            1      14.03.21   \n",
       "3        504311   29       0           54.1            5      25.10.21   \n",
       "4        504312   21       1           56.9            1      14.09.21   \n",
       "5        504313   55       0           13.7            6      14.05.21   \n",
       "6        504314   17       1           30.7            6      09.01.21   \n",
       "7        504315   30       1            8.1            7      28.03.21   \n",
       "8        504316   51       0           18.0            4      04.08.21   \n",
       "9        504317   63       1           19.2            4      06.10.21   \n",
       "10       504318   26       0           36.5            5      31.12.21   \n",
       "11       504319   42       1           14.0            4      22.11.21   \n",
       "12       504320   40       0           14.7            2      02.08.21   \n",
       "13       504321   19       0           37.4            4      07.05.21   \n",
       "14       504322   30       1           15.4            1      02.05.21   \n",
       "15       504323   60       0           28.7            7      04.06.21   \n",
       "16       504324   22       0           39.7            3      22.02.21   \n",
       "17       504325   39       1            5.1            3      13.07.21   \n",
       "18       504326   21       1           43.9            6      13.09.21   \n",
       "19       504327   20       1           36.4            6      16.01.21   \n",
       "\n",
       "    Purchase_VALUE  Pay_Method  Time_Spent  Browser  Newsletter  Voucher  \n",
       "0           24.915           1         885        0           0        0  \n",
       "1            2.896           2         656        0           0        1  \n",
       "2           10.600           0         761        0           1        0  \n",
       "3           43.280           1         906        0           1        0  \n",
       "4           56.900           1         605        0           1        0  \n",
       "5           12.467           1         364        1           0        0  \n",
       "6            2.456           0         654        0           0        0  \n",
       "7            6.561           3        1011        0           0        0  \n",
       "8           11.880           0         312        3           1        0  \n",
       "9           11.904           3         828        0           0        0  \n",
       "10          31.390           2        1029        0           0        1  \n",
       "11           4.340           3         479        1           0        0  \n",
       "12           2.940           3         645        0           0        0  \n",
       "13          15.334           3         501        1           0        0  \n",
       "14          15.400           3         802        2           0        0  \n",
       "15           0.861           3         804        0           0        0  \n",
       "16          30.569           2         931        3           0        0  \n",
       "17           1.530           3         911        3           1        0  \n",
       "18          19.755           1         468        0           0        1  \n",
       "19          14.560           2         714        0           0        0  "
      ]
     },
     "execution_count": 479,
     "metadata": {},
     "output_type": "execute_result"
    }
   ],
   "source": [
    "sales_data.head(20)"
   ]
  },
  {
   "cell_type": "markdown",
   "id": "43e8ed3b",
   "metadata": {},
   "source": [
    "# <span style = \"color:#2C3333\">Data Cleaning</span>"
   ]
  },
  {
   "cell_type": "markdown",
   "id": "97badc53",
   "metadata": {},
   "source": [
    "### <span style = \"color:#2C3333\">Check for Missing Values</span>"
   ]
  },
  {
   "cell_type": "code",
   "execution_count": 480,
   "id": "e9967994",
   "metadata": {},
   "outputs": [
    {
     "name": "stdout",
     "output_type": "stream",
     "text": [
      "Customer_id       0\n",
      "Age               0\n",
      "Gender            0\n",
      "Revenue_Total     0\n",
      "N_Purchases       0\n",
      "Purchase_DATE     0\n",
      "Purchase_VALUE    0\n",
      "Pay_Method        0\n",
      "Time_Spent        0\n",
      "Browser           0\n",
      "Newsletter        0\n",
      "Voucher           0\n",
      "dtype: int64\n"
     ]
    }
   ],
   "source": [
    "# Check for missing values\n",
    "missing_values = sales_data.isna()\n",
    "\n",
    "# Count the number of missing values in each column\n",
    "num_missing = missing_values.sum()\n",
    "\n",
    "# Print the number of missing values in each column\n",
    "print(num_missing)"
   ]
  },
  {
   "cell_type": "markdown",
   "id": "cd2b9e05",
   "metadata": {},
   "source": [
    "### <span style = \"color:#2C3333\">For each row it appears that there are no missing vaues</span>\n",
    "### <span style = \"color:#2C3333\">Check for data types</span>\n"
   ]
  },
  {
   "cell_type": "code",
   "execution_count": 481,
   "id": "bf2b581b",
   "metadata": {},
   "outputs": [
    {
     "data": {
      "text/plain": [
       "Customer_id         int64\n",
       "Age                 int64\n",
       "Gender              int64\n",
       "Revenue_Total     float64\n",
       "N_Purchases         int64\n",
       "Purchase_DATE      object\n",
       "Purchase_VALUE    float64\n",
       "Pay_Method          int64\n",
       "Time_Spent          int64\n",
       "Browser             int64\n",
       "Newsletter          int64\n",
       "Voucher             int64\n",
       "dtype: object"
      ]
     },
     "execution_count": 481,
     "metadata": {},
     "output_type": "execute_result"
    }
   ],
   "source": [
    "sales_data.dtypes"
   ]
  },
  {
   "cell_type": "markdown",
   "id": "871cd415",
   "metadata": {},
   "source": [
    "## <span style = \"color:#2C3333\">Replace 0 with 'Male' and 1 with 'Female' in the Gender column</span> \n",
    "## <span style = \"color:#2C3333\">Replace 0 with Chrome, 1 with Safari, 2 with Edge, 3 with Other in the Browser column</span>\n",
    "## <span style = \"color:#2C3333\">Replace 0 with Digital Wallets, 1 with Card, 2 with PayPal, 3 with Other in the Pay Method column</span>\n",
    "## <span style = \"color:#2C3333\">Replace 0 with not subscribed, 1 with subscribed in the Newsletter column</span>\n",
    "## <span style = \"color:#2C3333\">Replace 0 with not used, 1 with used in the Voucher column</span>\n"
   ]
  },
  {
   "cell_type": "code",
   "execution_count": 482,
   "id": "8de21463",
   "metadata": {},
   "outputs": [
    {
     "data": {
      "text/html": [
       "<div>\n",
       "<style scoped>\n",
       "    .dataframe tbody tr th:only-of-type {\n",
       "        vertical-align: middle;\n",
       "    }\n",
       "\n",
       "    .dataframe tbody tr th {\n",
       "        vertical-align: top;\n",
       "    }\n",
       "\n",
       "    .dataframe thead th {\n",
       "        text-align: right;\n",
       "    }\n",
       "</style>\n",
       "<table border=\"1\" class=\"dataframe\">\n",
       "  <thead>\n",
       "    <tr style=\"text-align: right;\">\n",
       "      <th></th>\n",
       "      <th>Customer_id</th>\n",
       "      <th>Age</th>\n",
       "      <th>Gender</th>\n",
       "      <th>Revenue_Total</th>\n",
       "      <th>N_Purchases</th>\n",
       "      <th>Purchase_DATE</th>\n",
       "      <th>Purchase_VALUE</th>\n",
       "      <th>Pay_Method</th>\n",
       "      <th>Time_Spent</th>\n",
       "      <th>Browser</th>\n",
       "      <th>Newsletter</th>\n",
       "      <th>Voucher</th>\n",
       "    </tr>\n",
       "  </thead>\n",
       "  <tbody>\n",
       "    <tr>\n",
       "      <th>0</th>\n",
       "      <td>504308</td>\n",
       "      <td>53</td>\n",
       "      <td>Male</td>\n",
       "      <td>45.3</td>\n",
       "      <td>2</td>\n",
       "      <td>22.06.21</td>\n",
       "      <td>24.915</td>\n",
       "      <td>Card</td>\n",
       "      <td>885</td>\n",
       "      <td>Chrome</td>\n",
       "      <td>not subscribed</td>\n",
       "      <td>not used</td>\n",
       "    </tr>\n",
       "    <tr>\n",
       "      <th>1</th>\n",
       "      <td>504309</td>\n",
       "      <td>18</td>\n",
       "      <td>Female</td>\n",
       "      <td>36.2</td>\n",
       "      <td>3</td>\n",
       "      <td>10.12.21</td>\n",
       "      <td>2.896</td>\n",
       "      <td>PayPal</td>\n",
       "      <td>656</td>\n",
       "      <td>Chrome</td>\n",
       "      <td>not subscribed</td>\n",
       "      <td>used</td>\n",
       "    </tr>\n",
       "    <tr>\n",
       "      <th>2</th>\n",
       "      <td>504310</td>\n",
       "      <td>52</td>\n",
       "      <td>Female</td>\n",
       "      <td>10.6</td>\n",
       "      <td>1</td>\n",
       "      <td>14.03.21</td>\n",
       "      <td>10.600</td>\n",
       "      <td>Digital Wallets</td>\n",
       "      <td>761</td>\n",
       "      <td>Chrome</td>\n",
       "      <td>subscribed</td>\n",
       "      <td>not used</td>\n",
       "    </tr>\n",
       "    <tr>\n",
       "      <th>3</th>\n",
       "      <td>504311</td>\n",
       "      <td>29</td>\n",
       "      <td>Male</td>\n",
       "      <td>54.1</td>\n",
       "      <td>5</td>\n",
       "      <td>25.10.21</td>\n",
       "      <td>43.280</td>\n",
       "      <td>Card</td>\n",
       "      <td>906</td>\n",
       "      <td>Chrome</td>\n",
       "      <td>subscribed</td>\n",
       "      <td>not used</td>\n",
       "    </tr>\n",
       "    <tr>\n",
       "      <th>4</th>\n",
       "      <td>504312</td>\n",
       "      <td>21</td>\n",
       "      <td>Female</td>\n",
       "      <td>56.9</td>\n",
       "      <td>1</td>\n",
       "      <td>14.09.21</td>\n",
       "      <td>56.900</td>\n",
       "      <td>Card</td>\n",
       "      <td>605</td>\n",
       "      <td>Chrome</td>\n",
       "      <td>subscribed</td>\n",
       "      <td>not used</td>\n",
       "    </tr>\n",
       "  </tbody>\n",
       "</table>\n",
       "</div>"
      ],
      "text/plain": [
       "   Customer_id  Age  Gender  Revenue_Total  N_Purchases Purchase_DATE  \\\n",
       "0       504308   53    Male           45.3            2      22.06.21   \n",
       "1       504309   18  Female           36.2            3      10.12.21   \n",
       "2       504310   52  Female           10.6            1      14.03.21   \n",
       "3       504311   29    Male           54.1            5      25.10.21   \n",
       "4       504312   21  Female           56.9            1      14.09.21   \n",
       "\n",
       "   Purchase_VALUE       Pay_Method  Time_Spent Browser      Newsletter  \\\n",
       "0          24.915             Card         885  Chrome  not subscribed   \n",
       "1           2.896           PayPal         656  Chrome  not subscribed   \n",
       "2          10.600  Digital Wallets         761  Chrome      subscribed   \n",
       "3          43.280             Card         906  Chrome      subscribed   \n",
       "4          56.900             Card         605  Chrome      subscribed   \n",
       "\n",
       "    Voucher  \n",
       "0  not used  \n",
       "1      used  \n",
       "2  not used  \n",
       "3  not used  \n",
       "4  not used  "
      ]
     },
     "execution_count": 482,
     "metadata": {},
     "output_type": "execute_result"
    }
   ],
   "source": [
    "sales_data['Gender'] = sales_data['Gender'].replace({0: 'Male', 1: 'Female'})\n",
    "\n",
    "# Replace values in the Browser column\n",
    "sales_data['Browser'] = sales_data['Browser'].replace({0: 'Chrome', 1: 'Safari', 2: 'Edge', 3: 'Other'})\n",
    "\n",
    "# Replace values in the Pay Method column\n",
    "sales_data['Pay_Method'] = sales_data['Pay_Method'].replace({0: 'Digital Wallets', 1: 'Card', 2: 'PayPal', 3: 'Other'})\n",
    "\n",
    "# Replace values in the Newsletter column\n",
    "sales_data['Newsletter'] = sales_data['Newsletter'].replace({0: 'not subscribed', 1: 'subscribed'})\n",
    "\n",
    "# Replace values in the Voucher column\n",
    "sales_data['Voucher'] = sales_data['Voucher'].replace({0: 'not used', 1: 'used'})\n",
    "\n",
    "\n",
    "sales_data.head()"
   ]
  },
  {
   "cell_type": "markdown",
   "id": "fb512a90",
   "metadata": {},
   "source": [
    "## <span style = \"color:#2C3333\"> Create a new Column with the Month only and the year only and display the last 2 digits from the Purchase_DATE column</span> \n"
   ]
  },
  {
   "cell_type": "code",
   "execution_count": 483,
   "id": "835f7b82",
   "metadata": {},
   "outputs": [
    {
     "data": {
      "text/html": [
       "<div>\n",
       "<style scoped>\n",
       "    .dataframe tbody tr th:only-of-type {\n",
       "        vertical-align: middle;\n",
       "    }\n",
       "\n",
       "    .dataframe tbody tr th {\n",
       "        vertical-align: top;\n",
       "    }\n",
       "\n",
       "    .dataframe thead th {\n",
       "        text-align: right;\n",
       "    }\n",
       "</style>\n",
       "<table border=\"1\" class=\"dataframe\">\n",
       "  <thead>\n",
       "    <tr style=\"text-align: right;\">\n",
       "      <th></th>\n",
       "      <th>Customer_id</th>\n",
       "      <th>Age</th>\n",
       "      <th>Gender</th>\n",
       "      <th>Revenue_Total</th>\n",
       "      <th>N_Purchases</th>\n",
       "      <th>Purchase_DATE</th>\n",
       "      <th>Purchase_VALUE</th>\n",
       "      <th>Pay_Method</th>\n",
       "      <th>Time_Spent</th>\n",
       "      <th>Browser</th>\n",
       "      <th>Newsletter</th>\n",
       "      <th>Voucher</th>\n",
       "      <th>Month</th>\n",
       "      <th>Year</th>\n",
       "    </tr>\n",
       "  </thead>\n",
       "  <tbody>\n",
       "    <tr>\n",
       "      <th>0</th>\n",
       "      <td>504308</td>\n",
       "      <td>53</td>\n",
       "      <td>Male</td>\n",
       "      <td>45.3</td>\n",
       "      <td>2</td>\n",
       "      <td>22.06.21</td>\n",
       "      <td>24.915</td>\n",
       "      <td>Card</td>\n",
       "      <td>885</td>\n",
       "      <td>Chrome</td>\n",
       "      <td>not subscribed</td>\n",
       "      <td>not used</td>\n",
       "      <td>06</td>\n",
       "      <td>21</td>\n",
       "    </tr>\n",
       "    <tr>\n",
       "      <th>1</th>\n",
       "      <td>504309</td>\n",
       "      <td>18</td>\n",
       "      <td>Female</td>\n",
       "      <td>36.2</td>\n",
       "      <td>3</td>\n",
       "      <td>10.12.21</td>\n",
       "      <td>2.896</td>\n",
       "      <td>PayPal</td>\n",
       "      <td>656</td>\n",
       "      <td>Chrome</td>\n",
       "      <td>not subscribed</td>\n",
       "      <td>used</td>\n",
       "      <td>12</td>\n",
       "      <td>21</td>\n",
       "    </tr>\n",
       "    <tr>\n",
       "      <th>2</th>\n",
       "      <td>504310</td>\n",
       "      <td>52</td>\n",
       "      <td>Female</td>\n",
       "      <td>10.6</td>\n",
       "      <td>1</td>\n",
       "      <td>14.03.21</td>\n",
       "      <td>10.600</td>\n",
       "      <td>Digital Wallets</td>\n",
       "      <td>761</td>\n",
       "      <td>Chrome</td>\n",
       "      <td>subscribed</td>\n",
       "      <td>not used</td>\n",
       "      <td>03</td>\n",
       "      <td>21</td>\n",
       "    </tr>\n",
       "    <tr>\n",
       "      <th>3</th>\n",
       "      <td>504311</td>\n",
       "      <td>29</td>\n",
       "      <td>Male</td>\n",
       "      <td>54.1</td>\n",
       "      <td>5</td>\n",
       "      <td>25.10.21</td>\n",
       "      <td>43.280</td>\n",
       "      <td>Card</td>\n",
       "      <td>906</td>\n",
       "      <td>Chrome</td>\n",
       "      <td>subscribed</td>\n",
       "      <td>not used</td>\n",
       "      <td>10</td>\n",
       "      <td>21</td>\n",
       "    </tr>\n",
       "    <tr>\n",
       "      <th>4</th>\n",
       "      <td>504312</td>\n",
       "      <td>21</td>\n",
       "      <td>Female</td>\n",
       "      <td>56.9</td>\n",
       "      <td>1</td>\n",
       "      <td>14.09.21</td>\n",
       "      <td>56.900</td>\n",
       "      <td>Card</td>\n",
       "      <td>605</td>\n",
       "      <td>Chrome</td>\n",
       "      <td>subscribed</td>\n",
       "      <td>not used</td>\n",
       "      <td>09</td>\n",
       "      <td>21</td>\n",
       "    </tr>\n",
       "  </tbody>\n",
       "</table>\n",
       "</div>"
      ],
      "text/plain": [
       "   Customer_id  Age  Gender  Revenue_Total  N_Purchases Purchase_DATE  \\\n",
       "0       504308   53    Male           45.3            2      22.06.21   \n",
       "1       504309   18  Female           36.2            3      10.12.21   \n",
       "2       504310   52  Female           10.6            1      14.03.21   \n",
       "3       504311   29    Male           54.1            5      25.10.21   \n",
       "4       504312   21  Female           56.9            1      14.09.21   \n",
       "\n",
       "   Purchase_VALUE       Pay_Method  Time_Spent Browser      Newsletter  \\\n",
       "0          24.915             Card         885  Chrome  not subscribed   \n",
       "1           2.896           PayPal         656  Chrome  not subscribed   \n",
       "2          10.600  Digital Wallets         761  Chrome      subscribed   \n",
       "3          43.280             Card         906  Chrome      subscribed   \n",
       "4          56.900             Card         605  Chrome      subscribed   \n",
       "\n",
       "    Voucher Month Year  \n",
       "0  not used    06   21  \n",
       "1      used    12   21  \n",
       "2  not used    03   21  \n",
       "3  not used    10   21  \n",
       "4  not used    09   21  "
      ]
     },
     "execution_count": 483,
     "metadata": {},
     "output_type": "execute_result"
    }
   ],
   "source": [
    "sales_data['Month'] = sales_data['Purchase_DATE'].str[3:5]\n",
    "sales_data['Year'] = sales_data['Purchase_DATE'].str[6:8]\n",
    "\n",
    "sales_data.head()\n"
   ]
  },
  {
   "cell_type": "markdown",
   "id": "a92ccca7",
   "metadata": {},
   "source": [
    "## <span style = \"color:#2C3333\"> Convert the new Column Month and Year into an Interger </span>\n"
   ]
  },
  {
   "cell_type": "code",
   "execution_count": 484,
   "id": "84529b8f",
   "metadata": {},
   "outputs": [
    {
     "data": {
      "text/plain": [
       "0        21\n",
       "1        21\n",
       "2        21\n",
       "3        21\n",
       "4        21\n",
       "         ..\n",
       "65791    21\n",
       "65792    21\n",
       "65793    21\n",
       "65794    21\n",
       "65795    21\n",
       "Name: Year, Length: 65796, dtype: int32"
      ]
     },
     "execution_count": 484,
     "metadata": {},
     "output_type": "execute_result"
    }
   ],
   "source": [
    "sales_data['Month'].astype(int)\n",
    "sales_data['Year'].astype(int)"
   ]
  },
  {
   "cell_type": "markdown",
   "id": "ffd8f0c9",
   "metadata": {},
   "source": [
    "## <span style = \"color:#2C3333\">Rename the the N_Purchases to Number_Purchases & Time_Spent to Time_Spent(Sec) Column</span> \n"
   ]
  },
  {
   "cell_type": "code",
   "execution_count": 485,
   "id": "a6b316e7",
   "metadata": {},
   "outputs": [
    {
     "data": {
      "text/html": [
       "<div>\n",
       "<style scoped>\n",
       "    .dataframe tbody tr th:only-of-type {\n",
       "        vertical-align: middle;\n",
       "    }\n",
       "\n",
       "    .dataframe tbody tr th {\n",
       "        vertical-align: top;\n",
       "    }\n",
       "\n",
       "    .dataframe thead th {\n",
       "        text-align: right;\n",
       "    }\n",
       "</style>\n",
       "<table border=\"1\" class=\"dataframe\">\n",
       "  <thead>\n",
       "    <tr style=\"text-align: right;\">\n",
       "      <th></th>\n",
       "      <th>Customer_id</th>\n",
       "      <th>Age</th>\n",
       "      <th>Gender</th>\n",
       "      <th>Revenue_Total</th>\n",
       "      <th>Number_Purchases</th>\n",
       "      <th>Purchase_DATE</th>\n",
       "      <th>Purchase_VALUE</th>\n",
       "      <th>Pay_Method</th>\n",
       "      <th>Time_Spent(Sec)</th>\n",
       "      <th>Browser</th>\n",
       "      <th>Newsletter</th>\n",
       "      <th>Voucher</th>\n",
       "      <th>Month</th>\n",
       "      <th>Year</th>\n",
       "    </tr>\n",
       "  </thead>\n",
       "  <tbody>\n",
       "    <tr>\n",
       "      <th>0</th>\n",
       "      <td>504308</td>\n",
       "      <td>53</td>\n",
       "      <td>Male</td>\n",
       "      <td>45.3</td>\n",
       "      <td>2</td>\n",
       "      <td>22.06.21</td>\n",
       "      <td>24.915</td>\n",
       "      <td>Card</td>\n",
       "      <td>885</td>\n",
       "      <td>Chrome</td>\n",
       "      <td>not subscribed</td>\n",
       "      <td>not used</td>\n",
       "      <td>06</td>\n",
       "      <td>21</td>\n",
       "    </tr>\n",
       "    <tr>\n",
       "      <th>1</th>\n",
       "      <td>504309</td>\n",
       "      <td>18</td>\n",
       "      <td>Female</td>\n",
       "      <td>36.2</td>\n",
       "      <td>3</td>\n",
       "      <td>10.12.21</td>\n",
       "      <td>2.896</td>\n",
       "      <td>PayPal</td>\n",
       "      <td>656</td>\n",
       "      <td>Chrome</td>\n",
       "      <td>not subscribed</td>\n",
       "      <td>used</td>\n",
       "      <td>12</td>\n",
       "      <td>21</td>\n",
       "    </tr>\n",
       "    <tr>\n",
       "      <th>2</th>\n",
       "      <td>504310</td>\n",
       "      <td>52</td>\n",
       "      <td>Female</td>\n",
       "      <td>10.6</td>\n",
       "      <td>1</td>\n",
       "      <td>14.03.21</td>\n",
       "      <td>10.600</td>\n",
       "      <td>Digital Wallets</td>\n",
       "      <td>761</td>\n",
       "      <td>Chrome</td>\n",
       "      <td>subscribed</td>\n",
       "      <td>not used</td>\n",
       "      <td>03</td>\n",
       "      <td>21</td>\n",
       "    </tr>\n",
       "    <tr>\n",
       "      <th>3</th>\n",
       "      <td>504311</td>\n",
       "      <td>29</td>\n",
       "      <td>Male</td>\n",
       "      <td>54.1</td>\n",
       "      <td>5</td>\n",
       "      <td>25.10.21</td>\n",
       "      <td>43.280</td>\n",
       "      <td>Card</td>\n",
       "      <td>906</td>\n",
       "      <td>Chrome</td>\n",
       "      <td>subscribed</td>\n",
       "      <td>not used</td>\n",
       "      <td>10</td>\n",
       "      <td>21</td>\n",
       "    </tr>\n",
       "    <tr>\n",
       "      <th>4</th>\n",
       "      <td>504312</td>\n",
       "      <td>21</td>\n",
       "      <td>Female</td>\n",
       "      <td>56.9</td>\n",
       "      <td>1</td>\n",
       "      <td>14.09.21</td>\n",
       "      <td>56.900</td>\n",
       "      <td>Card</td>\n",
       "      <td>605</td>\n",
       "      <td>Chrome</td>\n",
       "      <td>subscribed</td>\n",
       "      <td>not used</td>\n",
       "      <td>09</td>\n",
       "      <td>21</td>\n",
       "    </tr>\n",
       "  </tbody>\n",
       "</table>\n",
       "</div>"
      ],
      "text/plain": [
       "   Customer_id  Age  Gender  Revenue_Total  Number_Purchases Purchase_DATE  \\\n",
       "0       504308   53    Male           45.3                 2      22.06.21   \n",
       "1       504309   18  Female           36.2                 3      10.12.21   \n",
       "2       504310   52  Female           10.6                 1      14.03.21   \n",
       "3       504311   29    Male           54.1                 5      25.10.21   \n",
       "4       504312   21  Female           56.9                 1      14.09.21   \n",
       "\n",
       "   Purchase_VALUE       Pay_Method  Time_Spent(Sec) Browser      Newsletter  \\\n",
       "0          24.915             Card              885  Chrome  not subscribed   \n",
       "1           2.896           PayPal              656  Chrome  not subscribed   \n",
       "2          10.600  Digital Wallets              761  Chrome      subscribed   \n",
       "3          43.280             Card              906  Chrome      subscribed   \n",
       "4          56.900             Card              605  Chrome      subscribed   \n",
       "\n",
       "    Voucher Month Year  \n",
       "0  not used    06   21  \n",
       "1      used    12   21  \n",
       "2  not used    03   21  \n",
       "3  not used    10   21  \n",
       "4  not used    09   21  "
      ]
     },
     "execution_count": 485,
     "metadata": {},
     "output_type": "execute_result"
    }
   ],
   "source": [
    "sales_data.rename(columns = {'Time_Spent' : 'Time_Spent(Sec)', 'N_Purchases' : 'Number_Purchases'},inplace = True) \n",
    "sales_data.head()"
   ]
  },
  {
   "cell_type": "markdown",
   "id": "cccecf36",
   "metadata": {},
   "source": [
    "# <span style = \"color:#2C3333\"> Drop the Customer Id Column </span>"
   ]
  },
  {
   "cell_type": "code",
   "execution_count": 486,
   "id": "63776cf4",
   "metadata": {},
   "outputs": [],
   "source": [
    "# Make a copy of the dataframe\n",
    "sales_data_copy = sales_data.copy()\n",
    "\n",
    "# Drop the 'column_name' column from the original dataframe\n",
    "sales_data_copy.drop(\"Customer_id\", axis=1, inplace =True)"
   ]
  },
  {
   "cell_type": "code",
   "execution_count": 487,
   "id": "1c864b5e",
   "metadata": {},
   "outputs": [
    {
     "data": {
      "text/html": [
       "<div>\n",
       "<style scoped>\n",
       "    .dataframe tbody tr th:only-of-type {\n",
       "        vertical-align: middle;\n",
       "    }\n",
       "\n",
       "    .dataframe tbody tr th {\n",
       "        vertical-align: top;\n",
       "    }\n",
       "\n",
       "    .dataframe thead th {\n",
       "        text-align: right;\n",
       "    }\n",
       "</style>\n",
       "<table border=\"1\" class=\"dataframe\">\n",
       "  <thead>\n",
       "    <tr style=\"text-align: right;\">\n",
       "      <th></th>\n",
       "      <th>Age</th>\n",
       "      <th>Gender</th>\n",
       "      <th>Revenue_Total</th>\n",
       "      <th>Number_Purchases</th>\n",
       "      <th>Purchase_DATE</th>\n",
       "      <th>Purchase_VALUE</th>\n",
       "      <th>Pay_Method</th>\n",
       "      <th>Time_Spent(Sec)</th>\n",
       "      <th>Browser</th>\n",
       "      <th>Newsletter</th>\n",
       "      <th>Voucher</th>\n",
       "      <th>Month</th>\n",
       "      <th>Year</th>\n",
       "    </tr>\n",
       "  </thead>\n",
       "  <tbody>\n",
       "    <tr>\n",
       "      <th>0</th>\n",
       "      <td>53</td>\n",
       "      <td>Male</td>\n",
       "      <td>45.3</td>\n",
       "      <td>2</td>\n",
       "      <td>22.06.21</td>\n",
       "      <td>24.915</td>\n",
       "      <td>Card</td>\n",
       "      <td>885</td>\n",
       "      <td>Chrome</td>\n",
       "      <td>not subscribed</td>\n",
       "      <td>not used</td>\n",
       "      <td>06</td>\n",
       "      <td>21</td>\n",
       "    </tr>\n",
       "    <tr>\n",
       "      <th>1</th>\n",
       "      <td>18</td>\n",
       "      <td>Female</td>\n",
       "      <td>36.2</td>\n",
       "      <td>3</td>\n",
       "      <td>10.12.21</td>\n",
       "      <td>2.896</td>\n",
       "      <td>PayPal</td>\n",
       "      <td>656</td>\n",
       "      <td>Chrome</td>\n",
       "      <td>not subscribed</td>\n",
       "      <td>used</td>\n",
       "      <td>12</td>\n",
       "      <td>21</td>\n",
       "    </tr>\n",
       "    <tr>\n",
       "      <th>2</th>\n",
       "      <td>52</td>\n",
       "      <td>Female</td>\n",
       "      <td>10.6</td>\n",
       "      <td>1</td>\n",
       "      <td>14.03.21</td>\n",
       "      <td>10.600</td>\n",
       "      <td>Digital Wallets</td>\n",
       "      <td>761</td>\n",
       "      <td>Chrome</td>\n",
       "      <td>subscribed</td>\n",
       "      <td>not used</td>\n",
       "      <td>03</td>\n",
       "      <td>21</td>\n",
       "    </tr>\n",
       "    <tr>\n",
       "      <th>3</th>\n",
       "      <td>29</td>\n",
       "      <td>Male</td>\n",
       "      <td>54.1</td>\n",
       "      <td>5</td>\n",
       "      <td>25.10.21</td>\n",
       "      <td>43.280</td>\n",
       "      <td>Card</td>\n",
       "      <td>906</td>\n",
       "      <td>Chrome</td>\n",
       "      <td>subscribed</td>\n",
       "      <td>not used</td>\n",
       "      <td>10</td>\n",
       "      <td>21</td>\n",
       "    </tr>\n",
       "    <tr>\n",
       "      <th>4</th>\n",
       "      <td>21</td>\n",
       "      <td>Female</td>\n",
       "      <td>56.9</td>\n",
       "      <td>1</td>\n",
       "      <td>14.09.21</td>\n",
       "      <td>56.900</td>\n",
       "      <td>Card</td>\n",
       "      <td>605</td>\n",
       "      <td>Chrome</td>\n",
       "      <td>subscribed</td>\n",
       "      <td>not used</td>\n",
       "      <td>09</td>\n",
       "      <td>21</td>\n",
       "    </tr>\n",
       "  </tbody>\n",
       "</table>\n",
       "</div>"
      ],
      "text/plain": [
       "   Age  Gender  Revenue_Total  Number_Purchases Purchase_DATE  Purchase_VALUE  \\\n",
       "0   53    Male           45.3                 2      22.06.21          24.915   \n",
       "1   18  Female           36.2                 3      10.12.21           2.896   \n",
       "2   52  Female           10.6                 1      14.03.21          10.600   \n",
       "3   29    Male           54.1                 5      25.10.21          43.280   \n",
       "4   21  Female           56.9                 1      14.09.21          56.900   \n",
       "\n",
       "        Pay_Method  Time_Spent(Sec) Browser      Newsletter   Voucher Month  \\\n",
       "0             Card              885  Chrome  not subscribed  not used    06   \n",
       "1           PayPal              656  Chrome  not subscribed      used    12   \n",
       "2  Digital Wallets              761  Chrome      subscribed  not used    03   \n",
       "3             Card              906  Chrome      subscribed  not used    10   \n",
       "4             Card              605  Chrome      subscribed  not used    09   \n",
       "\n",
       "  Year  \n",
       "0   21  \n",
       "1   21  \n",
       "2   21  \n",
       "3   21  \n",
       "4   21  "
      ]
     },
     "execution_count": 487,
     "metadata": {},
     "output_type": "execute_result"
    }
   ],
   "source": [
    "sales_data_copy.head()"
   ]
  },
  {
   "cell_type": "markdown",
   "id": "a045f547",
   "metadata": {},
   "source": [
    "# <span style = \"color:#2C3333\"> Save the cleaned data to a new csv file. </span>"
   ]
  },
  {
   "cell_type": "code",
   "execution_count": 488,
   "id": "d9cb9d83",
   "metadata": {},
   "outputs": [],
   "source": [
    "sales_data_copy.to_csv('Sales_Data_Final.csv', index=False)"
   ]
  },
  {
   "cell_type": "markdown",
   "id": "68e81279",
   "metadata": {},
   "source": [
    "# <span style = \"color:#2C3333\">Read In the New Cleaned Data that is Edited to work with. </span>"
   ]
  },
  {
   "cell_type": "code",
   "execution_count": 489,
   "id": "27964e65",
   "metadata": {},
   "outputs": [
    {
     "data": {
      "text/html": [
       "<div>\n",
       "<style scoped>\n",
       "    .dataframe tbody tr th:only-of-type {\n",
       "        vertical-align: middle;\n",
       "    }\n",
       "\n",
       "    .dataframe tbody tr th {\n",
       "        vertical-align: top;\n",
       "    }\n",
       "\n",
       "    .dataframe thead th {\n",
       "        text-align: right;\n",
       "    }\n",
       "</style>\n",
       "<table border=\"1\" class=\"dataframe\">\n",
       "  <thead>\n",
       "    <tr style=\"text-align: right;\">\n",
       "      <th></th>\n",
       "      <th>Age</th>\n",
       "      <th>Gender</th>\n",
       "      <th>Revenue_Total</th>\n",
       "      <th>Number_Purchases</th>\n",
       "      <th>Purchase_DATE</th>\n",
       "      <th>Purchase_VALUE</th>\n",
       "      <th>Pay_Method</th>\n",
       "      <th>Time_Spent(Sec)</th>\n",
       "      <th>Browser</th>\n",
       "      <th>Newsletter</th>\n",
       "      <th>Voucher</th>\n",
       "      <th>Month</th>\n",
       "      <th>Year</th>\n",
       "    </tr>\n",
       "  </thead>\n",
       "  <tbody>\n",
       "    <tr>\n",
       "      <th>0</th>\n",
       "      <td>53</td>\n",
       "      <td>Male</td>\n",
       "      <td>45.3</td>\n",
       "      <td>2</td>\n",
       "      <td>22.06.21</td>\n",
       "      <td>24.915</td>\n",
       "      <td>Card</td>\n",
       "      <td>885</td>\n",
       "      <td>Chrome</td>\n",
       "      <td>not subscribed</td>\n",
       "      <td>not used</td>\n",
       "      <td>6</td>\n",
       "      <td>21</td>\n",
       "    </tr>\n",
       "    <tr>\n",
       "      <th>1</th>\n",
       "      <td>18</td>\n",
       "      <td>Female</td>\n",
       "      <td>36.2</td>\n",
       "      <td>3</td>\n",
       "      <td>10.12.21</td>\n",
       "      <td>2.896</td>\n",
       "      <td>PayPal</td>\n",
       "      <td>656</td>\n",
       "      <td>Chrome</td>\n",
       "      <td>not subscribed</td>\n",
       "      <td>used</td>\n",
       "      <td>12</td>\n",
       "      <td>21</td>\n",
       "    </tr>\n",
       "    <tr>\n",
       "      <th>2</th>\n",
       "      <td>52</td>\n",
       "      <td>Female</td>\n",
       "      <td>10.6</td>\n",
       "      <td>1</td>\n",
       "      <td>14.03.21</td>\n",
       "      <td>10.600</td>\n",
       "      <td>Digital Wallets</td>\n",
       "      <td>761</td>\n",
       "      <td>Chrome</td>\n",
       "      <td>subscribed</td>\n",
       "      <td>not used</td>\n",
       "      <td>3</td>\n",
       "      <td>21</td>\n",
       "    </tr>\n",
       "    <tr>\n",
       "      <th>3</th>\n",
       "      <td>29</td>\n",
       "      <td>Male</td>\n",
       "      <td>54.1</td>\n",
       "      <td>5</td>\n",
       "      <td>25.10.21</td>\n",
       "      <td>43.280</td>\n",
       "      <td>Card</td>\n",
       "      <td>906</td>\n",
       "      <td>Chrome</td>\n",
       "      <td>subscribed</td>\n",
       "      <td>not used</td>\n",
       "      <td>10</td>\n",
       "      <td>21</td>\n",
       "    </tr>\n",
       "    <tr>\n",
       "      <th>4</th>\n",
       "      <td>21</td>\n",
       "      <td>Female</td>\n",
       "      <td>56.9</td>\n",
       "      <td>1</td>\n",
       "      <td>14.09.21</td>\n",
       "      <td>56.900</td>\n",
       "      <td>Card</td>\n",
       "      <td>605</td>\n",
       "      <td>Chrome</td>\n",
       "      <td>subscribed</td>\n",
       "      <td>not used</td>\n",
       "      <td>9</td>\n",
       "      <td>21</td>\n",
       "    </tr>\n",
       "  </tbody>\n",
       "</table>\n",
       "</div>"
      ],
      "text/plain": [
       "   Age  Gender  Revenue_Total  Number_Purchases Purchase_DATE  Purchase_VALUE  \\\n",
       "0   53    Male           45.3                 2      22.06.21          24.915   \n",
       "1   18  Female           36.2                 3      10.12.21           2.896   \n",
       "2   52  Female           10.6                 1      14.03.21          10.600   \n",
       "3   29    Male           54.1                 5      25.10.21          43.280   \n",
       "4   21  Female           56.9                 1      14.09.21          56.900   \n",
       "\n",
       "        Pay_Method  Time_Spent(Sec) Browser      Newsletter   Voucher  Month  \\\n",
       "0             Card              885  Chrome  not subscribed  not used      6   \n",
       "1           PayPal              656  Chrome  not subscribed      used     12   \n",
       "2  Digital Wallets              761  Chrome      subscribed  not used      3   \n",
       "3             Card              906  Chrome      subscribed  not used     10   \n",
       "4             Card              605  Chrome      subscribed  not used      9   \n",
       "\n",
       "   Year  \n",
       "0    21  \n",
       "1    21  \n",
       "2    21  \n",
       "3    21  \n",
       "4    21  "
      ]
     },
     "execution_count": 489,
     "metadata": {},
     "output_type": "execute_result"
    }
   ],
   "source": [
    "sales_clean_data = pd.read_csv('./Sales_Data_Final.csv')\n",
    "sales_clean_data.head()\n"
   ]
  },
  {
   "cell_type": "markdown",
   "id": "c817cf45",
   "metadata": {},
   "source": [
    "# <span style = \"color:#2C3333\">Get summary statistics of the data.</span>"
   ]
  },
  {
   "cell_type": "code",
   "execution_count": 490,
   "id": "5aeda3f6",
   "metadata": {},
   "outputs": [
    {
     "data": {
      "text/html": [
       "<div>\n",
       "<style scoped>\n",
       "    .dataframe tbody tr th:only-of-type {\n",
       "        vertical-align: middle;\n",
       "    }\n",
       "\n",
       "    .dataframe tbody tr th {\n",
       "        vertical-align: top;\n",
       "    }\n",
       "\n",
       "    .dataframe thead th {\n",
       "        text-align: right;\n",
       "    }\n",
       "</style>\n",
       "<table border=\"1\" class=\"dataframe\">\n",
       "  <thead>\n",
       "    <tr style=\"text-align: right;\">\n",
       "      <th></th>\n",
       "      <th>Age</th>\n",
       "      <th>Revenue_Total</th>\n",
       "      <th>Number_Purchases</th>\n",
       "      <th>Purchase_VALUE</th>\n",
       "      <th>Time_Spent(Sec)</th>\n",
       "      <th>Month</th>\n",
       "      <th>Year</th>\n",
       "    </tr>\n",
       "  </thead>\n",
       "  <tbody>\n",
       "    <tr>\n",
       "      <th>count</th>\n",
       "      <td>65796.000000</td>\n",
       "      <td>65796.000000</td>\n",
       "      <td>65796.000000</td>\n",
       "      <td>65796.000000</td>\n",
       "      <td>65796.000000</td>\n",
       "      <td>65796.000000</td>\n",
       "      <td>65796.000000</td>\n",
       "    </tr>\n",
       "    <tr>\n",
       "      <th>mean</th>\n",
       "      <td>39.592696</td>\n",
       "      <td>27.732935</td>\n",
       "      <td>3.992477</td>\n",
       "      <td>15.968699</td>\n",
       "      <td>598.925603</td>\n",
       "      <td>6.531415</td>\n",
       "      <td>21.002690</td>\n",
       "    </tr>\n",
       "    <tr>\n",
       "      <th>std</th>\n",
       "      <td>13.825466</td>\n",
       "      <td>14.941878</td>\n",
       "      <td>2.004370</td>\n",
       "      <td>13.229295</td>\n",
       "      <td>277.833635</td>\n",
       "      <td>3.459452</td>\n",
       "      <td>0.051797</td>\n",
       "    </tr>\n",
       "    <tr>\n",
       "      <th>min</th>\n",
       "      <td>16.000000</td>\n",
       "      <td>0.500000</td>\n",
       "      <td>1.000000</td>\n",
       "      <td>0.005000</td>\n",
       "      <td>120.000000</td>\n",
       "      <td>1.000000</td>\n",
       "      <td>21.000000</td>\n",
       "    </tr>\n",
       "    <tr>\n",
       "      <th>25%</th>\n",
       "      <td>28.000000</td>\n",
       "      <td>15.300000</td>\n",
       "      <td>2.000000</td>\n",
       "      <td>4.819750</td>\n",
       "      <td>358.000000</td>\n",
       "      <td>4.000000</td>\n",
       "      <td>21.000000</td>\n",
       "    </tr>\n",
       "    <tr>\n",
       "      <th>50%</th>\n",
       "      <td>40.000000</td>\n",
       "      <td>30.100000</td>\n",
       "      <td>4.000000</td>\n",
       "      <td>12.640000</td>\n",
       "      <td>598.000000</td>\n",
       "      <td>7.000000</td>\n",
       "      <td>21.000000</td>\n",
       "    </tr>\n",
       "    <tr>\n",
       "      <th>75%</th>\n",
       "      <td>51.000000</td>\n",
       "      <td>37.600000</td>\n",
       "      <td>6.000000</td>\n",
       "      <td>24.752000</td>\n",
       "      <td>840.000000</td>\n",
       "      <td>10.000000</td>\n",
       "      <td>21.000000</td>\n",
       "    </tr>\n",
       "    <tr>\n",
       "      <th>max</th>\n",
       "      <td>63.000000</td>\n",
       "      <td>59.900000</td>\n",
       "      <td>7.000000</td>\n",
       "      <td>59.900000</td>\n",
       "      <td>1080.000000</td>\n",
       "      <td>12.000000</td>\n",
       "      <td>22.000000</td>\n",
       "    </tr>\n",
       "  </tbody>\n",
       "</table>\n",
       "</div>"
      ],
      "text/plain": [
       "                Age  Revenue_Total  Number_Purchases  Purchase_VALUE  \\\n",
       "count  65796.000000   65796.000000      65796.000000    65796.000000   \n",
       "mean      39.592696      27.732935          3.992477       15.968699   \n",
       "std       13.825466      14.941878          2.004370       13.229295   \n",
       "min       16.000000       0.500000          1.000000        0.005000   \n",
       "25%       28.000000      15.300000          2.000000        4.819750   \n",
       "50%       40.000000      30.100000          4.000000       12.640000   \n",
       "75%       51.000000      37.600000          6.000000       24.752000   \n",
       "max       63.000000      59.900000          7.000000       59.900000   \n",
       "\n",
       "       Time_Spent(Sec)         Month          Year  \n",
       "count     65796.000000  65796.000000  65796.000000  \n",
       "mean        598.925603      6.531415     21.002690  \n",
       "std         277.833635      3.459452      0.051797  \n",
       "min         120.000000      1.000000     21.000000  \n",
       "25%         358.000000      4.000000     21.000000  \n",
       "50%         598.000000      7.000000     21.000000  \n",
       "75%         840.000000     10.000000     21.000000  \n",
       "max        1080.000000     12.000000     22.000000  "
      ]
     },
     "execution_count": 490,
     "metadata": {},
     "output_type": "execute_result"
    }
   ],
   "source": [
    "sales_clean_data.describe()"
   ]
  },
  {
   "cell_type": "markdown",
   "id": "49e29b9c",
   "metadata": {},
   "source": [
    "## <span style = \"color:#2C3333\">Check for any Duplicates</span>"
   ]
  },
  {
   "cell_type": "code",
   "execution_count": 491,
   "id": "febe4fc3",
   "metadata": {},
   "outputs": [
    {
     "data": {
      "text/plain": [
       "0"
      ]
     },
     "execution_count": 491,
     "metadata": {},
     "output_type": "execute_result"
    }
   ],
   "source": [
    "sales_clean_data.duplicated().sum()\n"
   ]
  },
  {
   "cell_type": "markdown",
   "id": "dfe8d97a",
   "metadata": {},
   "source": [
    "## <span style = \"color:#2C3333\">There are no missing values and duplicates so the data seems clear so far.</span>"
   ]
  },
  {
   "cell_type": "markdown",
   "id": "e5d080a8",
   "metadata": {},
   "source": [
    "# <span style = \"color:#2C3333\">Descriptive Statistics. </span>"
   ]
  },
  {
   "cell_type": "markdown",
   "id": "c211b68c",
   "metadata": {},
   "source": [
    "## <span style = \"color:#2C3333\">Age: calculate the mean, median, mode, minimum, maximum,standard deviation and Inter Quartile Rage of the age of customers.</span>"
   ]
  },
  {
   "cell_type": "code",
   "execution_count": 492,
   "id": "b7c4991f",
   "metadata": {},
   "outputs": [
    {
     "name": "stdout",
     "output_type": "stream",
     "text": [
      "count    65796.000000\n",
      "mean        39.592696\n",
      "std         13.825466\n",
      "min         16.000000\n",
      "25%         28.000000\n",
      "50%         40.000000\n",
      "75%         51.000000\n",
      "max         63.000000\n",
      "Name: Age, dtype: float64\n",
      "Median:  40.0\n"
     ]
    }
   ],
   "source": [
    "#Sort the Age column from low to high\n",
    "SortAge = sales_clean_data.sort_values(by=\"Age\")\n",
    "print(SortAge['Age'].describe())\n",
    "print('Median: ',SortAge['Age'].median())"
   ]
  },
  {
   "cell_type": "markdown",
   "id": "e0bad180",
   "metadata": {},
   "source": [
    "## <span style = \"color:#2C3333\"> Mode and IQR of Age.</span>"
   ]
  },
  {
   "cell_type": "code",
   "execution_count": 493,
   "id": "7cbe7557",
   "metadata": {},
   "outputs": [
    {
     "name": "stdout",
     "output_type": "stream",
     "text": [
      "Mode: 50\n",
      "IQR: 23.0\n"
     ]
    }
   ],
   "source": [
    "#The mode of the Age:\n",
    "Mode = SortAge['Age'].mode()[0]\n",
    "print('Mode:', Mode)\n",
    "\n",
    "#The Inter Quartile Range of the Age:\n",
    "Q1 = SortAge['Age'].quantile(0.25)\n",
    "Q3 = SortAge['Age'].quantile(0.75)\n",
    "\n",
    "IQR = Q3 - Q1\n",
    "\n",
    "print('IQR:', IQR)"
   ]
  },
  {
   "cell_type": "markdown",
   "id": "581a125a",
   "metadata": {},
   "source": [
    "## <span style = \"color:#2C3333\"> Gender: count the number of customers for each gender, calculate the percentage of male and female customers (Distribution).</span>"
   ]
  },
  {
   "cell_type": "code",
   "execution_count": 494,
   "id": "2a2c1cf4",
   "metadata": {},
   "outputs": [
    {
     "name": "stdout",
     "output_type": "stream",
     "text": [
      "The total number of Males is:  21624\n",
      "The total number of Females is:  44172\n",
      "The percentage of Female customers is:  67.13478022980121 %\n",
      "The percentage of Male customers is:  32.86521977019879 %\n"
     ]
    }
   ],
   "source": [
    "CountMale = 0\n",
    "CountFemale = 0\n",
    "\n",
    "for i in sales_clean_data['Gender']:\n",
    "    if(i == 'Male'):\n",
    "        CountMale = CountMale +1\n",
    "    else:\n",
    "        CountFemale = CountFemale +1\n",
    "        \n",
    "print('The total number of Males is: ', CountMale)\n",
    "print('The total number of Females is: ', CountFemale)\n",
    "\n",
    "#Calculate the percentage of Male and Female customers\n",
    "total_no_cus = CountFemale + CountMale\n",
    "percentage_males = (CountMale / total_no_cus) * 100\n",
    "percentage_females = (CountFemale / total_no_cus) * 100\n",
    "\n",
    "print('The percentage of Female customers is: ',percentage_females,\"%\")\n",
    "print('The percentage of Male customers is: ',percentage_males,\"%\")"
   ]
  },
  {
   "cell_type": "markdown",
   "id": "30453985",
   "metadata": {},
   "source": [
    "### <span style = \"color:#2C3333\">Pie Chart to Show distribution of Male and Females.</span>"
   ]
  },
  {
   "cell_type": "code",
   "execution_count": 495,
   "id": "a0b5181b",
   "metadata": {},
   "outputs": [
    {
     "data": {
      "image/png": "[encoded data removed]",
      "text/plain": [
       "<Figure size 600x600 with 1 Axes>"
      ]
     },
     "metadata": {},
     "output_type": "display_data"
    }
   ],
   "source": [
    "# create data\n",
    "labels = ['Female', 'Male']\n",
    "sizes = [percentage_females, percentage_males]\n",
    "\n",
    "# Create a pie chart\n",
    "sns.set_style(\"whitegrid\")\n",
    "plt.figure(figsize=(6,6))\n",
    "plt.pie(sizes, labels=labels, autopct='%1.1f%%', startangle=90, colors=['#CBE4DE', '#0E8388'])\n",
    "plt.title('Percentage of Female and Male Customers')\n",
    "plt.show()"
   ]
  },
  {
   "cell_type": "code",
   "execution_count": 496,
   "id": "048846c3",
   "metadata": {},
   "outputs": [],
   "source": [
    "import seaborn as sns\n",
    "import matplotlib.pyplot as plt"
   ]
  },
  {
   "cell_type": "markdown",
   "id": "bed39695",
   "metadata": {},
   "source": [
    "### <span style = \"color:#2C3333\">Calculate the Absolute value of Age.</span>"
   ]
  },
  {
   "cell_type": "code",
   "execution_count": 497,
   "id": "a0e9076f",
   "metadata": {},
   "outputs": [
    {
     "name": "stdout",
     "output_type": "stream",
     "text": [
      "Absolute Value of Age:  53\n"
     ]
    }
   ],
   "source": [
    "age_abs = SortAge['Age'].abs()[0]\n",
    "print(\"Absolute Value of Age: \", age_abs)"
   ]
  },
  {
   "cell_type": "code",
   "execution_count": 498,
   "id": "f2fde074",
   "metadata": {},
   "outputs": [
    {
     "data": {
      "text/html": [
       "<div>\n",
       "<style scoped>\n",
       "    .dataframe tbody tr th:only-of-type {\n",
       "        vertical-align: middle;\n",
       "    }\n",
       "\n",
       "    .dataframe tbody tr th {\n",
       "        vertical-align: top;\n",
       "    }\n",
       "\n",
       "    .dataframe thead th {\n",
       "        text-align: right;\n",
       "    }\n",
       "</style>\n",
       "<table border=\"1\" class=\"dataframe\">\n",
       "  <thead>\n",
       "    <tr style=\"text-align: right;\">\n",
       "      <th></th>\n",
       "      <th>Age</th>\n",
       "      <th>Gender</th>\n",
       "      <th>Revenue_Total</th>\n",
       "      <th>Number_Purchases</th>\n",
       "      <th>Purchase_DATE</th>\n",
       "      <th>Purchase_VALUE</th>\n",
       "      <th>Pay_Method</th>\n",
       "      <th>Time_Spent(Sec)</th>\n",
       "      <th>Browser</th>\n",
       "      <th>Newsletter</th>\n",
       "      <th>Voucher</th>\n",
       "      <th>Month</th>\n",
       "      <th>Year</th>\n",
       "    </tr>\n",
       "  </thead>\n",
       "  <tbody>\n",
       "    <tr>\n",
       "      <th>34554</th>\n",
       "      <td>58</td>\n",
       "      <td>Female</td>\n",
       "      <td>30.1</td>\n",
       "      <td>2</td>\n",
       "      <td>26.01.21</td>\n",
       "      <td>23.177</td>\n",
       "      <td>Other</td>\n",
       "      <td>846</td>\n",
       "      <td>Chrome</td>\n",
       "      <td>not subscribed</td>\n",
       "      <td>not used</td>\n",
       "      <td>1</td>\n",
       "      <td>21</td>\n",
       "    </tr>\n",
       "    <tr>\n",
       "      <th>5094</th>\n",
       "      <td>27</td>\n",
       "      <td>Female</td>\n",
       "      <td>8.3</td>\n",
       "      <td>3</td>\n",
       "      <td>10.01.21</td>\n",
       "      <td>6.308</td>\n",
       "      <td>Digital Wallets</td>\n",
       "      <td>244</td>\n",
       "      <td>Chrome</td>\n",
       "      <td>not subscribed</td>\n",
       "      <td>not used</td>\n",
       "      <td>1</td>\n",
       "      <td>21</td>\n",
       "    </tr>\n",
       "    <tr>\n",
       "      <th>12322</th>\n",
       "      <td>36</td>\n",
       "      <td>Female</td>\n",
       "      <td>36.4</td>\n",
       "      <td>4</td>\n",
       "      <td>06.01.21</td>\n",
       "      <td>26.936</td>\n",
       "      <td>PayPal</td>\n",
       "      <td>759</td>\n",
       "      <td>Safari</td>\n",
       "      <td>not subscribed</td>\n",
       "      <td>not used</td>\n",
       "      <td>1</td>\n",
       "      <td>21</td>\n",
       "    </tr>\n",
       "    <tr>\n",
       "      <th>43306</th>\n",
       "      <td>41</td>\n",
       "      <td>Female</td>\n",
       "      <td>11.4</td>\n",
       "      <td>2</td>\n",
       "      <td>29.01.21</td>\n",
       "      <td>9.120</td>\n",
       "      <td>Digital Wallets</td>\n",
       "      <td>907</td>\n",
       "      <td>Safari</td>\n",
       "      <td>subscribed</td>\n",
       "      <td>not used</td>\n",
       "      <td>1</td>\n",
       "      <td>21</td>\n",
       "    </tr>\n",
       "    <tr>\n",
       "      <th>29911</th>\n",
       "      <td>30</td>\n",
       "      <td>Female</td>\n",
       "      <td>12.9</td>\n",
       "      <td>1</td>\n",
       "      <td>26.01.21</td>\n",
       "      <td>12.900</td>\n",
       "      <td>Other</td>\n",
       "      <td>329</td>\n",
       "      <td>Safari</td>\n",
       "      <td>not subscribed</td>\n",
       "      <td>not used</td>\n",
       "      <td>1</td>\n",
       "      <td>21</td>\n",
       "    </tr>\n",
       "    <tr>\n",
       "      <th>...</th>\n",
       "      <td>...</td>\n",
       "      <td>...</td>\n",
       "      <td>...</td>\n",
       "      <td>...</td>\n",
       "      <td>...</td>\n",
       "      <td>...</td>\n",
       "      <td>...</td>\n",
       "      <td>...</td>\n",
       "      <td>...</td>\n",
       "      <td>...</td>\n",
       "      <td>...</td>\n",
       "      <td>...</td>\n",
       "      <td>...</td>\n",
       "    </tr>\n",
       "    <tr>\n",
       "      <th>9917</th>\n",
       "      <td>51</td>\n",
       "      <td>Female</td>\n",
       "      <td>27.8</td>\n",
       "      <td>7</td>\n",
       "      <td>25.12.21</td>\n",
       "      <td>7.506</td>\n",
       "      <td>Other</td>\n",
       "      <td>667</td>\n",
       "      <td>Edge</td>\n",
       "      <td>subscribed</td>\n",
       "      <td>not used</td>\n",
       "      <td>12</td>\n",
       "      <td>21</td>\n",
       "    </tr>\n",
       "    <tr>\n",
       "      <th>31474</th>\n",
       "      <td>31</td>\n",
       "      <td>Female</td>\n",
       "      <td>13.9</td>\n",
       "      <td>6</td>\n",
       "      <td>30.12.21</td>\n",
       "      <td>5.421</td>\n",
       "      <td>Digital Wallets</td>\n",
       "      <td>1001</td>\n",
       "      <td>Safari</td>\n",
       "      <td>not subscribed</td>\n",
       "      <td>used</td>\n",
       "      <td>12</td>\n",
       "      <td>21</td>\n",
       "    </tr>\n",
       "    <tr>\n",
       "      <th>9921</th>\n",
       "      <td>27</td>\n",
       "      <td>Female</td>\n",
       "      <td>29.0</td>\n",
       "      <td>7</td>\n",
       "      <td>24.12.21</td>\n",
       "      <td>10.730</td>\n",
       "      <td>PayPal</td>\n",
       "      <td>856</td>\n",
       "      <td>Safari</td>\n",
       "      <td>not subscribed</td>\n",
       "      <td>not used</td>\n",
       "      <td>12</td>\n",
       "      <td>21</td>\n",
       "    </tr>\n",
       "    <tr>\n",
       "      <th>59405</th>\n",
       "      <td>19</td>\n",
       "      <td>Female</td>\n",
       "      <td>38.9</td>\n",
       "      <td>3</td>\n",
       "      <td>22.12.21</td>\n",
       "      <td>22.951</td>\n",
       "      <td>PayPal</td>\n",
       "      <td>300</td>\n",
       "      <td>Chrome</td>\n",
       "      <td>subscribed</td>\n",
       "      <td>used</td>\n",
       "      <td>12</td>\n",
       "      <td>21</td>\n",
       "    </tr>\n",
       "    <tr>\n",
       "      <th>21390</th>\n",
       "      <td>55</td>\n",
       "      <td>Female</td>\n",
       "      <td>11.5</td>\n",
       "      <td>3</td>\n",
       "      <td>10.12.21</td>\n",
       "      <td>2.300</td>\n",
       "      <td>Digital Wallets</td>\n",
       "      <td>665</td>\n",
       "      <td>Chrome</td>\n",
       "      <td>subscribed</td>\n",
       "      <td>not used</td>\n",
       "      <td>12</td>\n",
       "      <td>21</td>\n",
       "    </tr>\n",
       "  </tbody>\n",
       "</table>\n",
       "<p>65796 rows × 13 columns</p>\n",
       "</div>"
      ],
      "text/plain": [
       "       Age  Gender  Revenue_Total  Number_Purchases Purchase_DATE  \\\n",
       "34554   58  Female           30.1                 2      26.01.21   \n",
       "5094    27  Female            8.3                 3      10.01.21   \n",
       "12322   36  Female           36.4                 4      06.01.21   \n",
       "43306   41  Female           11.4                 2      29.01.21   \n",
       "29911   30  Female           12.9                 1      26.01.21   \n",
       "...    ...     ...            ...               ...           ...   \n",
       "9917    51  Female           27.8                 7      25.12.21   \n",
       "31474   31  Female           13.9                 6      30.12.21   \n",
       "9921    27  Female           29.0                 7      24.12.21   \n",
       "59405   19  Female           38.9                 3      22.12.21   \n",
       "21390   55  Female           11.5                 3      10.12.21   \n",
       "\n",
       "       Purchase_VALUE       Pay_Method  Time_Spent(Sec) Browser  \\\n",
       "34554          23.177            Other              846  Chrome   \n",
       "5094            6.308  Digital Wallets              244  Chrome   \n",
       "12322          26.936           PayPal              759  Safari   \n",
       "43306           9.120  Digital Wallets              907  Safari   \n",
       "29911          12.900            Other              329  Safari   \n",
       "...               ...              ...              ...     ...   \n",
       "9917            7.506            Other              667    Edge   \n",
       "31474           5.421  Digital Wallets             1001  Safari   \n",
       "9921           10.730           PayPal              856  Safari   \n",
       "59405          22.951           PayPal              300  Chrome   \n",
       "21390           2.300  Digital Wallets              665  Chrome   \n",
       "\n",
       "           Newsletter   Voucher  Month  Year  \n",
       "34554  not subscribed  not used      1    21  \n",
       "5094   not subscribed  not used      1    21  \n",
       "12322  not subscribed  not used      1    21  \n",
       "43306      subscribed  not used      1    21  \n",
       "29911  not subscribed  not used      1    21  \n",
       "...               ...       ...    ...   ...  \n",
       "9917       subscribed  not used     12    21  \n",
       "31474  not subscribed      used     12    21  \n",
       "9921   not subscribed  not used     12    21  \n",
       "59405      subscribed      used     12    21  \n",
       "21390      subscribed  not used     12    21  \n",
       "\n",
       "[65796 rows x 13 columns]"
      ]
     },
     "execution_count": 498,
     "metadata": {},
     "output_type": "execute_result"
    }
   ],
   "source": [
    "sales_clean_data.sort_values(by='Month')\n"
   ]
  },
  {
   "cell_type": "markdown",
   "id": "af15d571",
   "metadata": {},
   "source": [
    "# <span style = \"color:#2C3333\">Calculate the frequency distribution of the \"Browser\" column. </span>"
   ]
  },
  {
   "cell_type": "code",
   "execution_count": 499,
   "id": "88138cba",
   "metadata": {},
   "outputs": [
    {
     "name": "stdout",
     "output_type": "stream",
     "text": [
      "Chrome    42076\n",
      "Safari    13135\n",
      "Other      7208\n",
      "Edge       3377\n",
      "Name: Browser, dtype: int64\n"
     ]
    }
   ],
   "source": [
    "# Calculate the frequency distribution of the \"Browser\" column\n",
    "freq_dist = sales_clean_data[\"Browser\"].value_counts()\n",
    "\n",
    "# Print the frequency distribution\n",
    "print(freq_dist)"
   ]
  },
  {
   "cell_type": "markdown",
   "id": "413d08d9",
   "metadata": {},
   "source": [
    "# <span style = \"color:#2C3333\">Boxplot visualization</span>"
   ]
  },
  {
   "cell_type": "code",
   "execution_count": 500,
   "id": "95e46311",
   "metadata": {},
   "outputs": [
    {
     "data": {
      "text/plain": [
       "<Axes: >"
      ]
     },
     "execution_count": 500,
     "metadata": {},
     "output_type": "execute_result"
    },
    {
     "data": {
      "image/png": "[encoded data removed]",
      "text/plain": [
       "<Figure size 2000x600 with 1 Axes>"
      ]
     },
     "metadata": {},
     "output_type": "display_data"
    }
   ],
   "source": [
    "sales_clean_data.boxplot(figsize = (20,6))"
   ]
  },
  {
   "cell_type": "markdown",
   "id": "c8b0d332",
   "metadata": {},
   "source": [
    " # <span style = \"color:#2C3333\">Outliers in the 'Purchase_VALUE' column</span>"
   ]
  },
  {
   "cell_type": "code",
   "execution_count": 501,
   "id": "9e3a87fb",
   "metadata": {},
   "outputs": [
    {
     "data": {
      "text/html": [
       "<div>\n",
       "<style scoped>\n",
       "    .dataframe tbody tr th:only-of-type {\n",
       "        vertical-align: middle;\n",
       "    }\n",
       "\n",
       "    .dataframe tbody tr th {\n",
       "        vertical-align: top;\n",
       "    }\n",
       "\n",
       "    .dataframe thead th {\n",
       "        text-align: right;\n",
       "    }\n",
       "</style>\n",
       "<table border=\"1\" class=\"dataframe\">\n",
       "  <thead>\n",
       "    <tr style=\"text-align: right;\">\n",
       "      <th></th>\n",
       "      <th>Age</th>\n",
       "      <th>Gender</th>\n",
       "      <th>Revenue_Total</th>\n",
       "      <th>Number_Purchases</th>\n",
       "      <th>Purchase_DATE</th>\n",
       "      <th>Purchase_VALUE</th>\n",
       "      <th>Pay_Method</th>\n",
       "      <th>Time_Spent(Sec)</th>\n",
       "      <th>Browser</th>\n",
       "      <th>Newsletter</th>\n",
       "      <th>Voucher</th>\n",
       "      <th>Month</th>\n",
       "      <th>Year</th>\n",
       "    </tr>\n",
       "  </thead>\n",
       "  <tbody>\n",
       "    <tr>\n",
       "      <th>4</th>\n",
       "      <td>21</td>\n",
       "      <td>Female</td>\n",
       "      <td>56.9</td>\n",
       "      <td>1</td>\n",
       "      <td>14.09.21</td>\n",
       "      <td>56.900</td>\n",
       "      <td>Card</td>\n",
       "      <td>605</td>\n",
       "      <td>Chrome</td>\n",
       "      <td>subscribed</td>\n",
       "      <td>not used</td>\n",
       "      <td>9</td>\n",
       "      <td>21</td>\n",
       "    </tr>\n",
       "    <tr>\n",
       "      <th>73</th>\n",
       "      <td>34</td>\n",
       "      <td>Female</td>\n",
       "      <td>58.7</td>\n",
       "      <td>7</td>\n",
       "      <td>22.01.21</td>\n",
       "      <td>58.113</td>\n",
       "      <td>Card</td>\n",
       "      <td>338</td>\n",
       "      <td>Other</td>\n",
       "      <td>not subscribed</td>\n",
       "      <td>not used</td>\n",
       "      <td>1</td>\n",
       "      <td>21</td>\n",
       "    </tr>\n",
       "    <tr>\n",
       "      <th>224</th>\n",
       "      <td>56</td>\n",
       "      <td>Female</td>\n",
       "      <td>54.9</td>\n",
       "      <td>1</td>\n",
       "      <td>07.08.21</td>\n",
       "      <td>54.900</td>\n",
       "      <td>Card</td>\n",
       "      <td>723</td>\n",
       "      <td>Other</td>\n",
       "      <td>not subscribed</td>\n",
       "      <td>not used</td>\n",
       "      <td>8</td>\n",
       "      <td>21</td>\n",
       "    </tr>\n",
       "    <tr>\n",
       "      <th>298</th>\n",
       "      <td>62</td>\n",
       "      <td>Female</td>\n",
       "      <td>58.7</td>\n",
       "      <td>1</td>\n",
       "      <td>25.09.21</td>\n",
       "      <td>58.700</td>\n",
       "      <td>Card</td>\n",
       "      <td>1065</td>\n",
       "      <td>Safari</td>\n",
       "      <td>not subscribed</td>\n",
       "      <td>not used</td>\n",
       "      <td>9</td>\n",
       "      <td>21</td>\n",
       "    </tr>\n",
       "    <tr>\n",
       "      <th>617</th>\n",
       "      <td>61</td>\n",
       "      <td>Female</td>\n",
       "      <td>59.7</td>\n",
       "      <td>1</td>\n",
       "      <td>31.12.21</td>\n",
       "      <td>59.700</td>\n",
       "      <td>PayPal</td>\n",
       "      <td>391</td>\n",
       "      <td>Chrome</td>\n",
       "      <td>not subscribed</td>\n",
       "      <td>not used</td>\n",
       "      <td>12</td>\n",
       "      <td>21</td>\n",
       "    </tr>\n",
       "    <tr>\n",
       "      <th>...</th>\n",
       "      <td>...</td>\n",
       "      <td>...</td>\n",
       "      <td>...</td>\n",
       "      <td>...</td>\n",
       "      <td>...</td>\n",
       "      <td>...</td>\n",
       "      <td>...</td>\n",
       "      <td>...</td>\n",
       "      <td>...</td>\n",
       "      <td>...</td>\n",
       "      <td>...</td>\n",
       "      <td>...</td>\n",
       "      <td>...</td>\n",
       "    </tr>\n",
       "    <tr>\n",
       "      <th>65247</th>\n",
       "      <td>25</td>\n",
       "      <td>Female</td>\n",
       "      <td>59.1</td>\n",
       "      <td>1</td>\n",
       "      <td>06.12.21</td>\n",
       "      <td>59.100</td>\n",
       "      <td>Card</td>\n",
       "      <td>297</td>\n",
       "      <td>Chrome</td>\n",
       "      <td>not subscribed</td>\n",
       "      <td>not used</td>\n",
       "      <td>12</td>\n",
       "      <td>21</td>\n",
       "    </tr>\n",
       "    <tr>\n",
       "      <th>65383</th>\n",
       "      <td>46</td>\n",
       "      <td>Female</td>\n",
       "      <td>59.7</td>\n",
       "      <td>3</td>\n",
       "      <td>16.10.21</td>\n",
       "      <td>56.118</td>\n",
       "      <td>Other</td>\n",
       "      <td>490</td>\n",
       "      <td>Edge</td>\n",
       "      <td>not subscribed</td>\n",
       "      <td>not used</td>\n",
       "      <td>10</td>\n",
       "      <td>21</td>\n",
       "    </tr>\n",
       "    <tr>\n",
       "      <th>65587</th>\n",
       "      <td>18</td>\n",
       "      <td>Female</td>\n",
       "      <td>58.3</td>\n",
       "      <td>7</td>\n",
       "      <td>28.11.21</td>\n",
       "      <td>55.385</td>\n",
       "      <td>Digital Wallets</td>\n",
       "      <td>548</td>\n",
       "      <td>Chrome</td>\n",
       "      <td>not subscribed</td>\n",
       "      <td>not used</td>\n",
       "      <td>11</td>\n",
       "      <td>21</td>\n",
       "    </tr>\n",
       "    <tr>\n",
       "      <th>65610</th>\n",
       "      <td>48</td>\n",
       "      <td>Male</td>\n",
       "      <td>59.3</td>\n",
       "      <td>1</td>\n",
       "      <td>25.03.21</td>\n",
       "      <td>59.300</td>\n",
       "      <td>Digital Wallets</td>\n",
       "      <td>485</td>\n",
       "      <td>Chrome</td>\n",
       "      <td>not subscribed</td>\n",
       "      <td>not used</td>\n",
       "      <td>3</td>\n",
       "      <td>21</td>\n",
       "    </tr>\n",
       "    <tr>\n",
       "      <th>65778</th>\n",
       "      <td>35</td>\n",
       "      <td>Female</td>\n",
       "      <td>57.1</td>\n",
       "      <td>1</td>\n",
       "      <td>13.12.21</td>\n",
       "      <td>57.100</td>\n",
       "      <td>PayPal</td>\n",
       "      <td>931</td>\n",
       "      <td>Other</td>\n",
       "      <td>not subscribed</td>\n",
       "      <td>not used</td>\n",
       "      <td>12</td>\n",
       "      <td>21</td>\n",
       "    </tr>\n",
       "  </tbody>\n",
       "</table>\n",
       "<p>560 rows × 13 columns</p>\n",
       "</div>"
      ],
      "text/plain": [
       "       Age  Gender  Revenue_Total  Number_Purchases Purchase_DATE  \\\n",
       "4       21  Female           56.9                 1      14.09.21   \n",
       "73      34  Female           58.7                 7      22.01.21   \n",
       "224     56  Female           54.9                 1      07.08.21   \n",
       "298     62  Female           58.7                 1      25.09.21   \n",
       "617     61  Female           59.7                 1      31.12.21   \n",
       "...    ...     ...            ...               ...           ...   \n",
       "65247   25  Female           59.1                 1      06.12.21   \n",
       "65383   46  Female           59.7                 3      16.10.21   \n",
       "65587   18  Female           58.3                 7      28.11.21   \n",
       "65610   48    Male           59.3                 1      25.03.21   \n",
       "65778   35  Female           57.1                 1      13.12.21   \n",
       "\n",
       "       Purchase_VALUE       Pay_Method  Time_Spent(Sec) Browser  \\\n",
       "4              56.900             Card              605  Chrome   \n",
       "73             58.113             Card              338   Other   \n",
       "224            54.900             Card              723   Other   \n",
       "298            58.700             Card             1065  Safari   \n",
       "617            59.700           PayPal              391  Chrome   \n",
       "...               ...              ...              ...     ...   \n",
       "65247          59.100             Card              297  Chrome   \n",
       "65383          56.118            Other              490    Edge   \n",
       "65587          55.385  Digital Wallets              548  Chrome   \n",
       "65610          59.300  Digital Wallets              485  Chrome   \n",
       "65778          57.100           PayPal              931   Other   \n",
       "\n",
       "           Newsletter   Voucher  Month  Year  \n",
       "4          subscribed  not used      9    21  \n",
       "73     not subscribed  not used      1    21  \n",
       "224    not subscribed  not used      8    21  \n",
       "298    not subscribed  not used      9    21  \n",
       "617    not subscribed  not used     12    21  \n",
       "...               ...       ...    ...   ...  \n",
       "65247  not subscribed  not used     12    21  \n",
       "65383  not subscribed  not used     10    21  \n",
       "65587  not subscribed  not used     11    21  \n",
       "65610  not subscribed  not used      3    21  \n",
       "65778  not subscribed  not used     12    21  \n",
       "\n",
       "[560 rows x 13 columns]"
      ]
     },
     "execution_count": 501,
     "metadata": {},
     "output_type": "execute_result"
    }
   ],
   "source": [
    "from scipy.stats import iqr\n",
    "IQR = iqr(sales_clean_data[\"Purchase_VALUE\"])\n",
    "lower_threshold = np.quantile(sales_clean_data[\"Purchase_VALUE\"], 0.25) - 1.5 * IQR\n",
    "upper_threshold = np.quantile(sales_clean_data[\"Purchase_VALUE\"], 0.75) + 1.5 * IQR\n",
    "T_outliers = sales_clean_data[(sales_clean_data[\"Purchase_VALUE\"] < lower_threshold) | (sales_clean_data[\"Purchase_VALUE\"] > upper_threshold)]\n",
    "T_outliers"
   ]
  },
  {
   "cell_type": "markdown",
   "id": "7c4e3895",
   "metadata": {},
   "source": [
    "# <span style = \"color:#2C3333\"> Explore columns with qualitative (categorical) data: </span>"
   ]
  },
  {
   "cell_type": "code",
   "execution_count": 502,
   "id": "238b6f1d",
   "metadata": {},
   "outputs": [
    {
     "data": {
      "text/html": [
       "<div>\n",
       "<style scoped>\n",
       "    .dataframe tbody tr th:only-of-type {\n",
       "        vertical-align: middle;\n",
       "    }\n",
       "\n",
       "    .dataframe tbody tr th {\n",
       "        vertical-align: top;\n",
       "    }\n",
       "\n",
       "    .dataframe thead th {\n",
       "        text-align: right;\n",
       "    }\n",
       "</style>\n",
       "<table border=\"1\" class=\"dataframe\">\n",
       "  <thead>\n",
       "    <tr style=\"text-align: right;\">\n",
       "      <th></th>\n",
       "      <th>Gender</th>\n",
       "      <th>Purchase_DATE</th>\n",
       "      <th>Pay_Method</th>\n",
       "      <th>Browser</th>\n",
       "      <th>Newsletter</th>\n",
       "      <th>Voucher</th>\n",
       "    </tr>\n",
       "  </thead>\n",
       "  <tbody>\n",
       "    <tr>\n",
       "      <th>count</th>\n",
       "      <td>65796</td>\n",
       "      <td>65796</td>\n",
       "      <td>65796</td>\n",
       "      <td>65796</td>\n",
       "      <td>65796</td>\n",
       "      <td>65796</td>\n",
       "    </tr>\n",
       "    <tr>\n",
       "      <th>unique</th>\n",
       "      <td>2</td>\n",
       "      <td>366</td>\n",
       "      <td>4</td>\n",
       "      <td>4</td>\n",
       "      <td>2</td>\n",
       "      <td>2</td>\n",
       "    </tr>\n",
       "    <tr>\n",
       "      <th>top</th>\n",
       "      <td>Female</td>\n",
       "      <td>31.03.21</td>\n",
       "      <td>Card</td>\n",
       "      <td>Chrome</td>\n",
       "      <td>not subscribed</td>\n",
       "      <td>not used</td>\n",
       "    </tr>\n",
       "    <tr>\n",
       "      <th>freq</th>\n",
       "      <td>44172</td>\n",
       "      <td>224</td>\n",
       "      <td>19754</td>\n",
       "      <td>42076</td>\n",
       "      <td>55859</td>\n",
       "      <td>49330</td>\n",
       "    </tr>\n",
       "  </tbody>\n",
       "</table>\n",
       "</div>"
      ],
      "text/plain": [
       "        Gender Purchase_DATE Pay_Method Browser      Newsletter   Voucher\n",
       "count    65796         65796      65796   65796           65796     65796\n",
       "unique       2           366          4       4               2         2\n",
       "top     Female      31.03.21       Card  Chrome  not subscribed  not used\n",
       "freq     44172           224      19754   42076           55859     49330"
      ]
     },
     "execution_count": 502,
     "metadata": {},
     "output_type": "execute_result"
    }
   ],
   "source": [
    "#Descriptive statistics for non numerical data (qualitative)\n",
    "sales_clean_data.describe(include=['object'])"
   ]
  },
  {
   "cell_type": "markdown",
   "id": "eb30c8d0",
   "metadata": {},
   "source": [
    "# <span style = \"color:#2C3333\"> Questions to provide Insights about my data Alongside Data Visiulization </span>"
   ]
  },
  {
   "cell_type": "markdown",
   "id": "3f55583c",
   "metadata": {},
   "source": [
    "## <span style = \"color:#2C3333\"> What is the average revenue total for Female and Male customers in this dataset? </span>"
   ]
  },
  {
   "cell_type": "code",
   "execution_count": 503,
   "id": "94a88ef2",
   "metadata": {},
   "outputs": [
    {
     "name": "stdout",
     "output_type": "stream",
     "text": [
      "The average revenue total for female customers is: 27.722419179570768\n",
      "The average revenue total for male customers is: 27.75441638919719\n"
     ]
    }
   ],
   "source": [
    "#group the data by Female Customers and calculate the sum of the revenue.\n",
    "female_total_revenue = sales_clean_data[sales_clean_data['Gender'] == 'Female']['Revenue_Total'].sum()\n",
    "#group the data by Female Customers and calculate the sum of the revenue.\n",
    "male_total_revenue = sales_clean_data[sales_clean_data['Gender'] == 'Male']['Revenue_Total'].sum()\n",
    "\n",
    "#print the monthly revenue totals\n",
    "female_average = female_total_revenue/CountFemale\n",
    "male_average = male_total_revenue/CountMale\n",
    "\n",
    "print('The average revenue total for female customers is:',female_average)\n",
    "print('The average revenue total for male customers is:',male_average)"
   ]
  },
  {
   "cell_type": "markdown",
   "id": "6da37c1f",
   "metadata": {},
   "source": [
    "* The average revenue generated by female customers is 27.72, while the average revenue generated by male customers is 27.75.\n",
    "* There is not a significant difference in the average revenue generated by male and female customers.\n",
    "* This suggests that both genders are equally valuable to the business in terms of generating revenue."
   ]
  },
  {
   "cell_type": "markdown",
   "id": "c16acc9a",
   "metadata": {},
   "source": [
    "## <span style = \"color:#2C3333\"> Which pay method is most commonly used by customers in this dataset? </span>"
   ]
  },
  {
   "cell_type": "code",
   "execution_count": 504,
   "id": "1da80164",
   "metadata": {},
   "outputs": [
    {
     "data": {
      "text/plain": [
       "array(['Card', 'PayPal', 'Digital Wallets', 'Other'], dtype=object)"
      ]
     },
     "execution_count": 504,
     "metadata": {},
     "output_type": "execute_result"
    }
   ],
   "source": [
    "#find the unique values in the 'Pay_Method' column\n",
    "sales_clean_data['Pay_Method'].unique()"
   ]
  },
  {
   "cell_type": "code",
   "execution_count": 505,
   "id": "e5b0daf3",
   "metadata": {},
   "outputs": [
    {
     "name": "stdout",
     "output_type": "stream",
     "text": [
      "12416\n"
     ]
    }
   ],
   "source": [
    "Card = 0\n",
    "PayPal = 0\n",
    "Digital_Wallets = 0\n",
    "Other = 0\n",
    "\n",
    "for i in sales_clean_data['Pay_Method']:\n",
    "    if(i == 'Card'):\n",
    "        Card += 1\n",
    "    elif (i == 'PayPal'):\n",
    "            PayPal += 1\n",
    "    elif (i == 'Digital Wallets'):\n",
    "            Digital_Wallets += 1\n",
    "    else:\n",
    "        Other += 1\n",
    "\n",
    "print(Other)\n",
    "        \n",
    "    "
   ]
  },
  {
   "cell_type": "code",
   "execution_count": 506,
   "id": "81c028d8",
   "metadata": {},
   "outputs": [
    {
     "data": {
      "image/png": "[encoded data removed]",
      "text/plain": [
       "<Figure size 700x700 with 1 Axes>"
      ]
     },
     "metadata": {},
     "output_type": "display_data"
    }
   ],
   "source": [
    "# create data\n",
    "labels = ['Card', 'PayPal', 'Digital_Wallets', 'Other']\n",
    "sizes = [Card, PayPal, Digital_Wallets, Other]\n",
    "\n",
    "# sort the data by size in descending order\n",
    "data = sorted(zip(sizes, labels), reverse=True)\n",
    "\n",
    "# extract the sorted labels and sizes\n",
    "sorted_sizes = [size for size, label in data]\n",
    "sorted_labels = [label for size, label in data]\n",
    "\n",
    "# create a bar chart\n",
    "sns.set_style(\"whitegrid\")\n",
    "plt.figure(figsize=(7,7))\n",
    "sns.barplot(x=sorted_labels, y=sorted_sizes, order=sorted_labels, palette=['#400D51'])\n",
    "plt.title('Distribution of pay method used')\n",
    "plt.show()"
   ]
  },
  {
   "cell_type": "markdown",
   "id": "2193e5b6",
   "metadata": {},
   "source": [
    "### <span style = \"color:#2C3333\"> As we can see from the Bar Chart that the most commonly used pay method by customers in this dataset is a Card.</span>"
   ]
  },
  {
   "cell_type": "markdown",
   "id": "f2c6dad8",
   "metadata": {},
   "source": [
    "## <span style = \"color:#2C3333\"> Is there a correlation between the number of purchases and the time spent on the website? </span>\n"
   ]
  },
  {
   "cell_type": "code",
   "execution_count": 507,
   "id": "51da0fb5",
   "metadata": {},
   "outputs": [
    {
     "data": {
      "text/html": [
       "<div>\n",
       "<style scoped>\n",
       "    .dataframe tbody tr th:only-of-type {\n",
       "        vertical-align: middle;\n",
       "    }\n",
       "\n",
       "    .dataframe tbody tr th {\n",
       "        vertical-align: top;\n",
       "    }\n",
       "\n",
       "    .dataframe thead th {\n",
       "        text-align: right;\n",
       "    }\n",
       "</style>\n",
       "<table border=\"1\" class=\"dataframe\">\n",
       "  <thead>\n",
       "    <tr style=\"text-align: right;\">\n",
       "      <th></th>\n",
       "      <th>Age</th>\n",
       "      <th>Gender</th>\n",
       "      <th>Revenue_Total</th>\n",
       "      <th>Number_Purchases</th>\n",
       "      <th>Purchase_DATE</th>\n",
       "      <th>Purchase_VALUE</th>\n",
       "      <th>Pay_Method</th>\n",
       "      <th>Time_Spent(Sec)</th>\n",
       "      <th>Browser</th>\n",
       "      <th>Newsletter</th>\n",
       "      <th>Voucher</th>\n",
       "      <th>Month</th>\n",
       "      <th>Year</th>\n",
       "    </tr>\n",
       "  </thead>\n",
       "  <tbody>\n",
       "    <tr>\n",
       "      <th>0</th>\n",
       "      <td>53</td>\n",
       "      <td>Male</td>\n",
       "      <td>45.3</td>\n",
       "      <td>2</td>\n",
       "      <td>22.06.21</td>\n",
       "      <td>24.915</td>\n",
       "      <td>Card</td>\n",
       "      <td>885</td>\n",
       "      <td>Chrome</td>\n",
       "      <td>not subscribed</td>\n",
       "      <td>not used</td>\n",
       "      <td>6</td>\n",
       "      <td>21</td>\n",
       "    </tr>\n",
       "    <tr>\n",
       "      <th>1</th>\n",
       "      <td>18</td>\n",
       "      <td>Female</td>\n",
       "      <td>36.2</td>\n",
       "      <td>3</td>\n",
       "      <td>10.12.21</td>\n",
       "      <td>2.896</td>\n",
       "      <td>PayPal</td>\n",
       "      <td>656</td>\n",
       "      <td>Chrome</td>\n",
       "      <td>not subscribed</td>\n",
       "      <td>used</td>\n",
       "      <td>12</td>\n",
       "      <td>21</td>\n",
       "    </tr>\n",
       "    <tr>\n",
       "      <th>2</th>\n",
       "      <td>52</td>\n",
       "      <td>Female</td>\n",
       "      <td>10.6</td>\n",
       "      <td>1</td>\n",
       "      <td>14.03.21</td>\n",
       "      <td>10.600</td>\n",
       "      <td>Digital Wallets</td>\n",
       "      <td>761</td>\n",
       "      <td>Chrome</td>\n",
       "      <td>subscribed</td>\n",
       "      <td>not used</td>\n",
       "      <td>3</td>\n",
       "      <td>21</td>\n",
       "    </tr>\n",
       "    <tr>\n",
       "      <th>3</th>\n",
       "      <td>29</td>\n",
       "      <td>Male</td>\n",
       "      <td>54.1</td>\n",
       "      <td>5</td>\n",
       "      <td>25.10.21</td>\n",
       "      <td>43.280</td>\n",
       "      <td>Card</td>\n",
       "      <td>906</td>\n",
       "      <td>Chrome</td>\n",
       "      <td>subscribed</td>\n",
       "      <td>not used</td>\n",
       "      <td>10</td>\n",
       "      <td>21</td>\n",
       "    </tr>\n",
       "    <tr>\n",
       "      <th>4</th>\n",
       "      <td>21</td>\n",
       "      <td>Female</td>\n",
       "      <td>56.9</td>\n",
       "      <td>1</td>\n",
       "      <td>14.09.21</td>\n",
       "      <td>56.900</td>\n",
       "      <td>Card</td>\n",
       "      <td>605</td>\n",
       "      <td>Chrome</td>\n",
       "      <td>subscribed</td>\n",
       "      <td>not used</td>\n",
       "      <td>9</td>\n",
       "      <td>21</td>\n",
       "    </tr>\n",
       "  </tbody>\n",
       "</table>\n",
       "</div>"
      ],
      "text/plain": [
       "   Age  Gender  Revenue_Total  Number_Purchases Purchase_DATE  Purchase_VALUE  \\\n",
       "0   53    Male           45.3                 2      22.06.21          24.915   \n",
       "1   18  Female           36.2                 3      10.12.21           2.896   \n",
       "2   52  Female           10.6                 1      14.03.21          10.600   \n",
       "3   29    Male           54.1                 5      25.10.21          43.280   \n",
       "4   21  Female           56.9                 1      14.09.21          56.900   \n",
       "\n",
       "        Pay_Method  Time_Spent(Sec) Browser      Newsletter   Voucher  Month  \\\n",
       "0             Card              885  Chrome  not subscribed  not used      6   \n",
       "1           PayPal              656  Chrome  not subscribed      used     12   \n",
       "2  Digital Wallets              761  Chrome      subscribed  not used      3   \n",
       "3             Card              906  Chrome      subscribed  not used     10   \n",
       "4             Card              605  Chrome      subscribed  not used      9   \n",
       "\n",
       "   Year  \n",
       "0    21  \n",
       "1    21  \n",
       "2    21  \n",
       "3    21  \n",
       "4    21  "
      ]
     },
     "execution_count": 507,
     "metadata": {},
     "output_type": "execute_result"
    }
   ],
   "source": [
    "sales_clean_data.head()"
   ]
  },
  {
   "cell_type": "code",
   "execution_count": 508,
   "id": "bbf17a96",
   "metadata": {},
   "outputs": [
    {
     "name": "stdout",
     "output_type": "stream",
     "text": [
      "                  Number_Purchases  Time_Spent(Sec)\n",
      "Number_Purchases          1.000000         0.001604\n",
      "Time_Spent(Sec)           0.001604         1.000000\n"
     ]
    }
   ],
   "source": [
    "# select the relevant columns\n",
    "selected_data = sales_data[['Number_Purchases', 'Time_Spent(Sec)']]\n",
    "\n",
    "# compute the correlation matrix\n",
    "correlation_matrix = selected_data.corr()\n",
    "\n",
    "# print the correlation matrix\n",
    "print(correlation_matrix)"
   ]
  },
  {
   "cell_type": "code",
   "execution_count": 509,
   "id": "3f81f720",
   "metadata": {},
   "outputs": [
    {
     "data": {
      "text/plain": [
       "<Axes: >"
      ]
     },
     "execution_count": 509,
     "metadata": {},
     "output_type": "execute_result"
    },
    {
     "data": {
      "image/png": "[encoded data removed]",
      "text/plain": [
       "<Figure size 640x480 with 2 Axes>"
      ]
     },
     "metadata": {},
     "output_type": "display_data"
    }
   ],
   "source": [
    "# Compute the correlation matrix\n",
    "corr = sales_clean_data[['Number_Purchases', 'Time_Spent(Sec)']].corr()\n",
    "\n",
    "# Create a heatmap to visualize the correlation matrix\n",
    "sns.heatmap(corr, annot=True, cmap='inferno')"
   ]
  },
  {
   "cell_type": "markdown",
   "id": "bd4a1ce2",
   "metadata": {},
   "source": [
    "### <span style = \"color:#2C3333\"> </span>\n"
   ]
  },
  {
   "cell_type": "markdown",
   "id": "78cd43aa",
   "metadata": {},
   "source": [
    "## <span style = \"color:red\">\n",
    "* The correlation coefficient between \"Number_Purchases\" and \"Time_Spent(Sec)\" is 0.001604.\n",
    "* Since this value is very close to zero, it indicates that there is almost no correlation between the two variables.\n",
    "* This means that the time spent on the website does not have a strong relationship with the number of purchases made\n",
    "</span>\n"
   ]
  },
  {
   "cell_type": "markdown",
   "id": "b1ddaeb0",
   "metadata": {},
   "source": [
    "## <span style = \"color:#2C3333\"> Which month had the highest total purchase value in this dataset? </span>\n"
   ]
  },
  {
   "cell_type": "code",
   "execution_count": 510,
   "id": "902a985d",
   "metadata": {},
   "outputs": [
    {
     "name": "stdout",
     "output_type": "stream",
     "text": [
      "Month\n",
      "1     159971.4\n",
      "2     138002.9\n",
      "3     153033.8\n",
      "4     150651.5\n",
      "5     154229.4\n",
      "6     149994.9\n",
      "7     151661.3\n",
      "8     154860.3\n",
      "9     151553.3\n",
      "10    155362.4\n",
      "11    147957.0\n",
      "12    157438.0\n",
      "Name: Revenue_Total, dtype: float64\n"
     ]
    }
   ],
   "source": [
    "# group the data by month and calculate the sum of the revenue for each month\n",
    "monthly_revenue = sales_clean_data.groupby('Month')['Revenue_Total'].sum()\n",
    "\n",
    "# print the monthly revenue totals\n",
    "print(monthly_revenue)"
   ]
  },
  {
   "cell_type": "code",
   "execution_count": 511,
   "id": "9c6ad6e1",
   "metadata": {},
   "outputs": [
    {
     "data": {
      "image/png": "[encoded data removed]",
      "text/plain": [
       "<Figure size 640x480 with 1 Axes>"
      ]
     },
     "metadata": {},
     "output_type": "display_data"
    }
   ],
   "source": [
    "monthly_revenue.plot(kind='bar',color='#400D51')\n",
    "plt.xlabel('Month')\n",
    "plt.ylabel('Revenue in R')\n",
    "plt.title('Total Monthly Revenue')\n",
    "plt.show()"
   ]
  },
  {
   "cell_type": "markdown",
   "id": "7bf9d3bd",
   "metadata": {},
   "source": [
    "* The first month had the highest revenue generated(R 159 971.4), suggesting it may be a period of high demand or peak sales.\n",
    "* Businesses can plan and allocate resources, such as inventory, advertising and sales promotions, during this period to maximize their revenue.\n",
    "* The revenue generated in the other months is relatively consistent, ranging between R 138 002.9 to R 157 438.0.\n",
    "* The consistency in revenue generated suggests that there may be a consistent level of demand throughout the year."
   ]
  },
  {
   "cell_type": "markdown",
   "id": "03a9ec07",
   "metadata": {},
   "source": [
    "## <span style = \"color:#2C3333\">How many customers used a voucher in their purchases? </sapn>"
   ]
  },
  {
   "cell_type": "code",
   "execution_count": 512,
   "id": "f5f3d064",
   "metadata": {},
   "outputs": [
    {
     "name": "stdout",
     "output_type": "stream",
     "text": [
      "16466 Customers used a voucher in their purchases.\n"
     ]
    }
   ],
   "source": [
    "not_used = 0\n",
    "used = 0\n",
    "\n",
    "for i in sales_clean_data['Voucher']:\n",
    "    if(i == 'not used'):\n",
    "        not_used += 1\n",
    "    else:\n",
    "        used += 1\n",
    "\n",
    "print(used, \"Customers used a voucher in their purchases.\")"
   ]
  },
  {
   "cell_type": "code",
   "execution_count": 513,
   "id": "cf0f1790",
   "metadata": {},
   "outputs": [
    {
     "data": {
      "image/png": "[encoded data removed]",
      "text/plain": [
       "<Figure size 600x600 with 1 Axes>"
      ]
     },
     "metadata": {},
     "output_type": "display_data"
    }
   ],
   "source": [
    "# create data\n",
    "labels = ['Used Voucher', 'Never used a Voucher']\n",
    "sizes = [used, not_used]\n",
    "explode = [0, 0.1]  # explode the first slice (i.e. \"Used Voucher\")\n",
    "\n",
    "# Create a pie chart\n",
    "sns.set_style(\"whitegrid\")\n",
    "plt.figure(figsize=(6,6))\n",
    "plt.pie(sizes, labels=labels, explode=explode, autopct='%1.1f%%', startangle=90, colors=['#CBE4DE', '#93C6E7'])\n",
    "plt.title('Distribution of customers that used a voucher in their purchases and those that did not')\n",
    "plt.show()"
   ]
  },
  {
   "cell_type": "markdown",
   "id": "49f4c001",
   "metadata": {},
   "source": [
    "* The majority of customers, 75%, did not use a voucher in their purchases. This suggests that customers are either not interested in vouchers or that businesses need to do more to promote the use of vouchers.\n",
    "* On the other hand, 20% of customers did use a voucher, which can be seen as a positive sign for businesses as it indicates that there is some level of interest in vouchers.\n",
    "* The store can tailor their marketing and promotional strategies to target customers who are more likely to be interested in vouchers or incentivize customers who have not yet tried vouchers to use them."
   ]
  },
  {
   "cell_type": "markdown",
   "id": "22638cca",
   "metadata": {},
   "source": [
    "## <span style = \"color:#2C3333\">What percentage of customers subscribed to the newsletter? </sapn>"
   ]
  },
  {
   "cell_type": "code",
   "execution_count": 514,
   "id": "97b012ed",
   "metadata": {},
   "outputs": [
    {
     "name": "stdout",
     "output_type": "stream",
     "text": [
      "15.102741808012645 % Customers Subscribed to the Newsletter.\n"
     ]
    }
   ],
   "source": [
    "not_subscribed = 0\n",
    "subscribed = 0\n",
    "\n",
    "for i in sales_clean_data['Newsletter']:\n",
    "    if(i == 'not subscribed'):\n",
    "        not_subscribed += 1\n",
    "    else:\n",
    "        subscribed += 1\n",
    "\n",
    "\n",
    "        \n",
    "total_number_of_customers = sales_clean_data['Gender'].count()\n",
    "\n",
    "percentage_Subscribed = (subscribed/total_number_of_customers)*100\n",
    "        \n",
    "print(percentage_Subscribed, \"% Customers Subscribed to the Newsletter.\")"
   ]
  },
  {
   "cell_type": "code",
   "execution_count": 515,
   "id": "c5179f8e",
   "metadata": {
    "scrolled": false
   },
   "outputs": [
    {
     "data": {
      "image/png": "[encoded data removed]",
      "text/plain": [
       "<Figure size 600x600 with 1 Axes>"
      ]
     },
     "metadata": {},
     "output_type": "display_data"
    }
   ],
   "source": [
    "# create data\n",
    "labels = ['Not Subscribed', 'Subscribed']\n",
    "sizes = [not_subscribed, subscribed]\n",
    "explode = [0, 0.1]  # explode the first slice (i.e. \"Used Voucher\")\n",
    "\n",
    "# Create a pie chart\n",
    "sns.set_style(\"whitegrid\")\n",
    "plt.figure(figsize=(6,6))\n",
    "plt.pie(sizes, labels=labels, explode=explode, autopct='%1.1f%%', startangle=90, colors=['#FAEAB1', '#E5BA73'])\n",
    "plt.title('Percentage of customers subscribed to the newslettert')\n",
    "plt.show()"
   ]
  },
  {
   "cell_type": "code",
   "execution_count": null,
   "id": "3e5e3f3d",
   "metadata": {},
   "outputs": [],
   "source": []
  },
  {
   "cell_type": "markdown",
   "id": "9ff01691",
   "metadata": {},
   "source": [
    "## <span style = \"color:#2C3333\"> Which browser is most commonly used by customers in this dataset? </sapn>"
   ]
  },
  {
   "cell_type": "code",
   "execution_count": 516,
   "id": "911c5180",
   "metadata": {},
   "outputs": [
    {
     "data": {
      "text/plain": [
       "array(['Chrome', 'Safari', 'Other', 'Edge'], dtype=object)"
      ]
     },
     "execution_count": 516,
     "metadata": {},
     "output_type": "execute_result"
    }
   ],
   "source": [
    "sales_clean_data['Browser'].unique()"
   ]
  },
  {
   "cell_type": "code",
   "execution_count": 517,
   "id": "a3038493",
   "metadata": {},
   "outputs": [
    {
     "name": "stdout",
     "output_type": "stream",
     "text": [
      "Chrome    42076\n",
      "Safari    13135\n",
      "Other      7208\n",
      "Edge       3377\n",
      "Name: Browser, dtype: int64\n"
     ]
    },
    {
     "data": {
      "image/png": "[encoded data removed]",
      "text/plain": [
       "<Figure size 700x700 with 1 Axes>"
      ]
     },
     "metadata": {},
     "output_type": "display_data"
    }
   ],
   "source": [
    "Chrome = 0\n",
    "Safari = 0\n",
    "Other = 0\n",
    "Edge = 0\n",
    "\n",
    "for i in sales_clean_data['Browser']:\n",
    "    if(i == 'Chrome'):\n",
    "        Chrome += 1\n",
    "    elif(i == 'Safari'):\n",
    "        Safari += 1\n",
    "    elif(i == 'Edge'):\n",
    "        Edge += 1\n",
    "    else:\n",
    "        Other += 1\n",
    "        \n",
    "# Calculate the frequency distribution of the \"Browser\" column\n",
    "freq_dist = sales_clean_data[\"Browser\"].value_counts()\n",
    "\n",
    "# Print the frequency distribution\n",
    "print(freq_dist)\n",
    "\n",
    "# create data\n",
    "labels = ['Chrome', 'Safari','Other', 'Edge']\n",
    "sizes = [Chrome,Safari,Other,Edge]\n",
    "explode = [0.0, 0.09,0.09, 0.09 ]  # explode the first slice (i.e. \"Used Voucher\")\n",
    "\n",
    "# Create a pie chart\n",
    "sns.set_style(\"whitegrid\")\n",
    "plt.figure(figsize=(7,7))\n",
    "plt.pie(sizes, labels=labels, explode=explode, autopct='%1.1f%%', startangle=90, colors=['#8EC3B0', '#9ED5C5','#BCEAD5', '#DEF5E5'])\n",
    "plt.title('Distribution of customers that used a voucher in their purchases and those that did not')\n",
    "plt.show()\n",
    "\n"
   ]
  },
  {
   "cell_type": "markdown",
   "id": "5f82d139",
   "metadata": {},
   "source": [
    "* The Pie chart of the frequency distribution of the \"Browser\" column shows that the majority of customers use Chrome, followed by Safari, Other, and Edge, respectively.\n",
    "\n",
    "* This insight can be useful for web developers and marketers to optimize their website for the most commonly used browsers. They can prioritize testing and optimizing their website for Chrome and Safari, as they are the most popular browsers among the customers.\n",
    "\n",
    "* Additionally, they should also ensure that their website is functional and user-friendly on the other browsers as well, to avoid any potential loss of customers."
   ]
  },
  {
   "cell_type": "code",
   "execution_count": 518,
   "id": "34d7838c",
   "metadata": {},
   "outputs": [
    {
     "name": "stdout",
     "output_type": "stream",
     "text": [
      "                  Number_Purchases     Month      Year\n",
      "Number_Purchases          1.000000  0.001690 -0.006832\n",
      "Month                     0.001690  1.000000 -0.083043\n",
      "Year                     -0.006832 -0.083043  1.000000\n"
     ]
    }
   ],
   "source": [
    "# select the relevant columns\n",
    "selected_data = sales_clean_data[['Number_Purchases', 'Month', 'Year']]\n",
    "\n",
    "# compute the correlation matrix\n",
    "correlation_matrix = selected_data.corr()\n",
    "\n",
    "# print the correlation matrix\n",
    "print(correlation_matrix)"
   ]
  },
  {
   "cell_type": "markdown",
   "id": "84354a71",
   "metadata": {},
   "source": [
    "## <span style = \"color:#2C3333\"> Is there a correlation between the number of purchases and the purchase date? </sapn>"
   ]
  },
  {
   "cell_type": "code",
   "execution_count": 519,
   "id": "30ec8953",
   "metadata": {},
   "outputs": [
    {
     "data": {
      "text/plain": [
       "<Axes: >"
      ]
     },
     "execution_count": 519,
     "metadata": {},
     "output_type": "execute_result"
    },
    {
     "data": {
      "image/png": "[encoded data removed]",
      "text/plain": [
       "<Figure size 640x480 with 2 Axes>"
      ]
     },
     "metadata": {},
     "output_type": "display_data"
    }
   ],
   "source": [
    "# Compute the correlation matrix\n",
    "corr = sales_clean_data[['Number_Purchases', 'Month', ]].corr()\n",
    "\n",
    "# Create a heatmap to visualize the correlation matrix\n",
    "sns.heatmap(corr, annot=True, cmap='inferno')"
   ]
  },
  {
   "cell_type": "markdown",
   "id": "4797380f",
   "metadata": {},
   "source": [
    "* There is no correlation between the number of purchases and the purchase date."
   ]
  },
  {
   "cell_type": "markdown",
   "id": "96226713",
   "metadata": {},
   "source": [
    "## <span style = \"color:#2C3333\"> Which pay method had the highest average purchase value? </sapn>"
   ]
  },
  {
   "cell_type": "code",
   "execution_count": 520,
   "id": "c86f9302",
   "metadata": {},
   "outputs": [
    {
     "data": {
      "text/plain": [
       "Pay_Method\n",
       "Card               16.028402\n",
       "PayPal             15.965570\n",
       "Other              15.950153\n",
       "Digital Wallets    15.921330\n",
       "Name: Purchase_VALUE, dtype: float64"
      ]
     },
     "execution_count": 520,
     "metadata": {},
     "output_type": "execute_result"
    }
   ],
   "source": [
    "pay_method_average_purchase = sales_clean_data.groupby('Pay_Method')['Purchase_VALUE'].mean().sort_values(ascending=False)\n",
    "pay_method_average_purchase\n"
   ]
  },
  {
   "cell_type": "code",
   "execution_count": 521,
   "id": "727a202a",
   "metadata": {},
   "outputs": [
    {
     "data": {
      "image/png": "[encoded data removed]",
      "text/plain": [
       "<Figure size 800x600 with 1 Axes>"
      ]
     },
     "metadata": {},
     "output_type": "display_data"
    }
   ],
   "source": [
    "# Create a bar chart\n",
    "plt.figure(figsize=(8,6))\n",
    "pay_method_average_purchase.plot.bar()\n",
    "plt.xlabel('Pay Method')\n",
    "plt.ylabel('Average Purchase Value')\n",
    "plt.title('Average Purchase Value by Pay Method')\n",
    "\n",
    "plt.show()"
   ]
  },
  {
   "cell_type": "markdown",
   "id": "e675183d",
   "metadata": {},
   "source": [
    "* This shows us the average purchase value for each pay method, sorted in descending order. \n",
    "* The pay method with the highest average purchase value is Card Method."
   ]
  },
  {
   "cell_type": "markdown",
   "id": "60b38125",
   "metadata": {},
   "source": [
    "## <span style = \"color:#2C3333\"> What is the most common number of purchases made by customers in this dataset? </sapn>"
   ]
  },
  {
   "cell_type": "code",
   "execution_count": 522,
   "id": "d0e9f440",
   "metadata": {},
   "outputs": [
    {
     "name": "stdout",
     "output_type": "stream",
     "text": [
      "1 is the most common number of purchases made by customers.\n"
     ]
    }
   ],
   "source": [
    "most_frequent_item = sales_clean_data['Number_Purchases'].value_counts().idxmax()\n",
    "print(most_frequent_item, \"is the most common number of purchases made by customers.\")"
   ]
  },
  {
   "cell_type": "markdown",
   "id": "600c32ed",
   "metadata": {},
   "source": [
    "## <span style = \"color:#2C3333\"> How many customers used a voucher in each month of this dataset? </sapn>"
   ]
  },
  {
   "cell_type": "code",
   "execution_count": 523,
   "id": "1769ec49",
   "metadata": {},
   "outputs": [
    {
     "name": "stdout",
     "output_type": "stream",
     "text": [
      "Month  Voucher\n",
      "1      used       1364\n",
      "2      used       1251\n",
      "3      used       1354\n",
      "4      used       1336\n",
      "5      used       1398\n",
      "6      used       1374\n",
      "7      used       1355\n",
      "8      used       1424\n",
      "9      used       1428\n",
      "10     used       1416\n",
      "11     used       1348\n",
      "12     used       1418\n",
      "Name: Age, dtype: int64\n"
     ]
    }
   ],
   "source": [
    "customers_with_voucher = sales_clean_data[sales_clean_data['Voucher'] == 'used']\n",
    "customers_with_voucher_by_month = customers_with_voucher.groupby(['Month', 'Voucher'])['Age'].count()\n",
    "print(customers_with_voucher_by_month)\n"
   ]
  },
  {
   "cell_type": "code",
   "execution_count": 524,
   "id": "b0680578",
   "metadata": {},
   "outputs": [
    {
     "data": {
      "image/png": "[encoded data removed]",
      "text/plain": [
       "<Figure size 1000x600 with 1 Axes>"
      ]
     },
     "metadata": {},
     "output_type": "display_data"
    }
   ],
   "source": [
    "# Create bar plot\n",
    "sns.set_style(\"whitegrid\")\n",
    "plt.figure(figsize=(10,6))\n",
    "sns.barplot(x=customers_with_voucher_by_month.index.get_level_values('Month'), y='Age', hue=customers_with_voucher_by_month.index.get_level_values('Voucher'), data=customers_with_voucher_by_month.reset_index())\n",
    "plt.title('Number of customers who used a voucher by month')\n",
    "plt.xlabel('Month')\n",
    "plt.ylabel('Number of customers')\n",
    "plt.show()"
   ]
  },
  {
   "cell_type": "markdown",
   "id": "74262731",
   "metadata": {},
   "source": [
    "## <span style = \"color:#2C3333\">Pie chart for the percentage of purchases made using each payment method.</span>"
   ]
  },
  {
   "cell_type": "code",
   "execution_count": 525,
   "id": "73da4faa",
   "metadata": {},
   "outputs": [
    {
     "data": {
      "image/png": "[encoded data removed]",
      "text/plain": [
       "<Figure size 640x480 with 1 Axes>"
      ]
     },
     "metadata": {},
     "output_type": "display_data"
    }
   ],
   "source": [
    "# Get the count of each payment method\n",
    "payment_counts = sales_clean_data[\"Pay_Method\"].value_counts()\n",
    "\n",
    "explode = [0.08, 0,0.0, 0.0 ]\n",
    "# Plot a pie chart of the payment method counts\n",
    "plt.pie(payment_counts.values, explode=explode, labels=payment_counts.index, autopct='%1.1f%%')\n",
    "plt.title(\"Payment Method Distribution\")\n",
    "plt.show()"
   ]
  },
  {
   "cell_type": "markdown",
   "id": "f79fe063",
   "metadata": {},
   "source": [
    "* The pie chart of the percentage of purchases made using each payment method shows that the majority of customers prefer to pay using a card, with 33% of purchases made using this method. \n",
    "* Digital wallets come in second place, with 29% of purchases, followed by PayPal, which accounts for 21.1% of purchases. \n",
    "* The remaining 18.9% of purchases are made using other payment methods.\n",
    "* The pie chart of payment methods used by customers can help businesses to optimize their payment options. \n"
   ]
  },
  {
   "cell_type": "markdown",
   "id": "dd8ccdcc",
   "metadata": {},
   "source": [
    "## <span style = \"color:#2C3333\"> Age Distribution</sapn>"
   ]
  },
  {
   "cell_type": "code",
   "execution_count": null,
   "id": "41a64431",
   "metadata": {},
   "outputs": [],
   "source": [
    "# Create a histogram using seaborn\n",
    "sns.histplot(data=sales_clean_data, x=\"Age\", kde=True, color='#400D51')\n",
    "\n",
    "# Set the plot title and axis labels\n",
    "plt.title(\"Age Distribution\")\n",
    "plt.xlabel(\"Age\")\n",
    "plt.ylabel(\"Frequency\")\n",
    "\n",
    "# Show the plot\n",
    "plt.show()"
   ]
  },
  {
   "cell_type": "markdown",
   "id": "9fa2cc57",
   "metadata": {},
   "source": [
    "* The age distribution is approximately normal, with most customers falling between the ages of 20 and 60.\n",
    "* The majority of customers are in their 20s, 30s, and 40s, with a smaller number of customers in their 50s and 60s.\n",
    "* There are very few customers under the age of 20 or over the age of 70.\n",
    "* The age distribution may be useful for the business to better understand their target audience and tailor their marketing and product strategies accordingly."
   ]
  },
  {
   "cell_type": "markdown",
   "id": "4890a2bc",
   "metadata": {},
   "source": [
    "## <span style = \"color:#2C3333\">Calculate the kurtosis of the Number_Purchases column</span>"
   ]
  },
  {
   "cell_type": "code",
   "execution_count": null,
   "id": "17d5555d",
   "metadata": {},
   "outputs": [],
   "source": [
    "kurtosis = sales_clean_data['Number_Purchases'].kurtosis()\n",
    "\n",
    "print(\"Kurtosis of the 'Number_Purchases' column:\", kurtosis)"
   ]
  },
  {
   "cell_type": "markdown",
   "id": "74543f8f",
   "metadata": {},
   "source": [
    "* The kurtosis value of -1.255 suggests that the distribution of the \"Number_Purchases\" column has thinner tails and a flatter peak compared to a normal distribution.\n",
    "* This suggests that there is a wide range of values for the number of purchases made by customers, with some customers making many more purchases than others."
   ]
  },
  {
   "cell_type": "markdown",
   "id": "ac19e576",
   "metadata": {},
   "source": [
    "## <span style = \"color:#2C3333\">Based on the insights from the data set analysis, the following conclusions can be drawn:</span>\n",
    "\n",
    "* The average revenue generated by male and female customers is very similar, with no significant difference. This suggests that both genders are equally valuable to the business in terms of generating revenue.\n",
    "\n",
    "* Card is the most commonly used payment method by customers, followed by digital wallets and PayPal. This insight can help businesses to optimize their payment options.\n",
    "\n",
    "* There is almost no correlation between the time spent on the website and the number of purchases made by customers. This means that the time spent on the website does not have a strong relationship with the number of purchases made.\n",
    "\n",
    "* The first month had the highest revenue generated, suggesting it may be a period of high demand or peak sales. The revenue generated in the other months is relatively consistent, suggesting a consistent level of demand throughout the year. Businesses can plan and allocate resources during this period to maximize their revenue.\n",
    "\n",
    "* The majority of customers did not use a voucher in their purchases. However, 20% of customers did use a voucher, indicating some level of interest in vouchers. The store can tailor their marketing and promotional strategies to target customers who are more likely to be interested in vouchers or incentivize customers who have not yet tried vouchers to use them.\n",
    "\n",
    "* 15% of customers subscribed to the newsletter. Businesses can use this insight to optimize their email marketing strategies.\n",
    "\n",
    "* Chrome and Safari are the most commonly used browsers by customers. Web developers and marketers can prioritize testing and optimizing their website for these browsers, while also ensuring that their website is functional and user-friendly on other browsers.\n",
    "\n",
    "* There is no correlation between the number of purchases and the purchase date.\n",
    "\n",
    "* The pay method with the highest average purchase value is Card Method.\n",
    "\n",
    "* 1 is the most common number of purchases made by customers.\n",
    "\n",
    "* The distribution of the \"Number_Purchases\" column has thinner tails and a flatter peak compared to a normal distribution. This suggests that there is a wide range of values for the number of purchases made by customers, with some customers making many more purchases than others."
   ]
  },
  {
   "cell_type": "markdown",
   "id": "e82265d7",
   "metadata": {},
   "source": [
    "## <span style = \"color:#2C3333\">Reflections </span>"
   ]
  },
  {
   "cell_type": "markdown",
   "id": "f0391ff8",
   "metadata": {},
   "source": [
    "* Python and Excel are both tools used for data analysis, but they have their differences. Python is a programming language that uses powerful libraries such as Pandas, Numpy, and Scipy to perform data analysis tasks, providing a wider range of statistical functions and tools for data manipulation, visualization, and modeling. \n",
    "* In contrast, Excel is a spreadsheet software that comes with built-in statistical functions for basic data analysis tasks, making it more user-friendly and accessible to non-programmers.\n",
    "\n",
    "* Python offers greater flexibility and customization than Excel, it allowed me to write custom functions and perform complex data manipulations that are not possible with Excel. Additionally, Python can handle larger datasets than Excel as i had seen with the previous assignment when excel crashed with my data set, with python it is faster for complex calculations. However, Excel provides a visual representation of data, which is helpful for understanding and presenting data which is also possibe with python.\n",
    "\n",
    "* The choice of tool depends on the specific task and the user's skills and preferences of which with myself going forward I'd prefer to use Python. \n",
    "* If redoing this assignment, more time would be spent exploring the data and using more advanced statistical functions in Python. Furthermore, data visualization techniques would be employed to gain deeper insights into the data. \n",
    "* To improve my programming and stats knowledge, I will read more on descriptive statistics alongside practicing more with online datasets, as practice programming regularly will then make myself feel more comfortable."
   ]
  }
 ],
 "metadata": {
  "kernelspec": {
   "display_name": "Python 3 (ipykernel)",
   "language": "python",
   "name": "python3"
  },
  "language_info": {
   "codemirror_mode": {
    "name": "ipython",
    "version": 3
   },
   "file_extension": ".py",
   "mimetype": "text/x-python",
   "name": "python",
   "nbconvert_exporter": "python",
   "pygments_lexer": "ipython3",
   "version": "3.10.9"
  }
 },
 "nbformat": 4,
 "nbformat_minor": 5
}
